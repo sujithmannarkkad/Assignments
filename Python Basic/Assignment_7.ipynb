{
 "cells": [
  {
   "cell_type": "code",
   "execution_count": null,
   "id": "6b17b9a9",
   "metadata": {},
   "outputs": [],
   "source": [
    "1. What is the name of the feature responsible for generating Regex objects?\n",
    "The re.compile() function returns Regex objects."
   ]
  },
  {
   "cell_type": "code",
   "execution_count": null,
   "id": "1633c2c3",
   "metadata": {},
   "outputs": [],
   "source": [
    "2. Why do raw strings often appear in Regex objects?\n",
    "\n",
    "Raw strings are used so that backslashes do not have to be escaped."
   ]
  },
  {
   "cell_type": "code",
   "execution_count": null,
   "id": "54e859fa",
   "metadata": {},
   "outputs": [],
   "source": [
    "3. What is the return value of the search() method?\n",
    "The search() method returns Match objects."
   ]
  },
  {
   "cell_type": "code",
   "execution_count": null,
   "id": "db38559c",
   "metadata": {},
   "outputs": [],
   "source": [
    "4. From a Match item, how do you get the actual strings that match the pattern?\n",
    "The group() method returns strings of the matched text."
   ]
  },
  {
   "cell_type": "code",
   "execution_count": null,
   "id": "ba842a47",
   "metadata": {},
   "outputs": [],
   "source": [
    "5. In the regex which created from the r'(\\d\\d\\d)-(\\d\\d\\d-\\d\\d\\d\\d)', what does group zero cover? Group 2? Group 1?\n",
    "\n",
    "Group 0 is the entire match, group 1 covers the first set of parentheses, and group 2 covers the second set of parentheses."
   ]
  },
  {
   "cell_type": "code",
   "execution_count": null,
   "id": "1022fdcf",
   "metadata": {},
   "outputs": [],
   "source": [
    "6. In standard expression syntax, parentheses and intervals have distinct meanings. How can you tell a regex that you want it to fit real parentheses and periods?\n",
    "Periods and parentheses can be escaped with a backslash: \\., \\(, and \\)."
   ]
  },
  {
   "cell_type": "code",
   "execution_count": null,
   "id": "b533e280",
   "metadata": {},
   "outputs": [],
   "source": [
    "7. The findall() method returns a string list or a list of string tuples. What causes it to return one of the two options?\n",
    "If the regex has no groups, a list of strings is returned. If the regex has groups, a list of tuples of strings is returned."
   ]
  },
  {
   "cell_type": "code",
   "execution_count": null,
   "id": "95888d48",
   "metadata": {},
   "outputs": [],
   "source": [
    "8. In standard expressions, what does the | character mean?\n",
    "The | character signifies matching \"either, or\" between two groups."
   ]
  },
  {
   "cell_type": "code",
   "execution_count": null,
   "id": "c40a883c",
   "metadata": {},
   "outputs": [],
   "source": [
    "9. In regular expressions, what does the character ? stand for?\n",
    "\n",
    "The ? character can either mean \"match zero or one of the preceding group\" or be used to signify nongreedy matching."
   ]
  },
  {
   "cell_type": "code",
   "execution_count": null,
   "id": "6a64c913",
   "metadata": {},
   "outputs": [],
   "source": [
    "10.In regular expressions, what is the difference between the + and * characters?\n",
    "The + matches one or more. The * matches zero or more."
   ]
  },
  {
   "cell_type": "code",
   "execution_count": null,
   "id": "1698e728",
   "metadata": {},
   "outputs": [],
   "source": [
    "11. What is the difference between {4} and {4,5} in regular expression?\n",
    "\n",
    "The {4} matches exactly four instances of the preceding group. The {4,5} matches between four and five instances."
   ]
  },
  {
   "cell_type": "code",
   "execution_count": null,
   "id": "6746695d",
   "metadata": {},
   "outputs": [],
   "source": [
    "13. What do means by \\D, \\W, and \\S shorthand character classes signify in regular expressions?\n",
    "The \\d, \\w, and \\s shorthand character classes match a single digit, word, or space character, respectively."
   ]
  },
  {
   "cell_type": "code",
   "execution_count": null,
   "id": "64b2aaab",
   "metadata": {},
   "outputs": [],
   "source": [
    "14. What is the difference between .*? and .*?\n",
    "* is greedy\n",
    ".*? is non-greedy"
   ]
  },
  {
   "cell_type": "code",
   "execution_count": null,
   "id": "fa7dd6d5",
   "metadata": {},
   "outputs": [],
   "source": [
    "15. What is the syntax for matching both numbers and lowercase letters with a character class?\n",
    "import re\n",
    "str='This is 1 example'\n",
    "re.findall('[0-9]|[a-z]', str)\n",
    "==>['h', 'i', 's', 'i', 's', '1', 'e', 'x', 'a', 'm', 'p', 'l', 'e']"
   ]
  },
  {
   "cell_type": "code",
   "execution_count": null,
   "id": "99395e43",
   "metadata": {},
   "outputs": [],
   "source": [
    "16. What is the procedure for making a normal expression in regax case insensitive?\n",
    "\n",
    "Use re. IGNORECASE to do case insensitive regular expressions\n",
    "IGNORECASE as an optional parameter in regular expression calls to do case insensitive regular expressions."
   ]
  },
  {
   "cell_type": "code",
   "execution_count": null,
   "id": "796b0a6b",
   "metadata": {},
   "outputs": [],
   "source": [
    "17. What does the . character normally match? What does it match if re.DOTALL is passed as 2nd argument in re.compile()?\n",
    "\n",
    "in regular expressions, the dot (.) is a special character used to match any one character.\n",
    "If re. DOTALL is passed as the second argument to re. compile(), then the dot will also match newline characters."
   ]
  },
  {
   "cell_type": "code",
   "execution_count": null,
   "id": "f79a30d7",
   "metadata": {},
   "outputs": [],
   "source": [
    "18. If numRegex = re.compile(r'\\d+'), what will numRegex.sub('X', '11 drummers, 10 pipers, five rings, 4 hen') return?\n",
    "==>'X drummers, X pipers, five rings, X hen'"
   ]
  },
  {
   "cell_type": "code",
   "execution_count": null,
   "id": "e76cd725",
   "metadata": {},
   "outputs": [],
   "source": [
    "19. What does passing re.VERBOSE as the 2nd argument to re.compile() allow to do?\n",
    "re. VERBOSE : This flag allows you to write regular expressions that look nicer and are more readable \n",
    "    by allowing you to visually separate logical sections of the pattern and add comments."
   ]
  },
  {
   "cell_type": "code",
   "execution_count": null,
   "id": "f61c331b",
   "metadata": {},
   "outputs": [],
   "source": [
    "20. How would you write a regex that match a number with comma for every three digits? It must match the given following:\n",
    "    \n",
    "    \n",
    "'42'\n",
    "'1,234'\n",
    "'6,368,745'\n",
    "but not the following:\n",
    "'12,34,567' (which has only two digits between the commas)\n",
    "'1234' (which lacks commas)\n",
    "\n",
    "\n",
    "\n",
    "import re\n",
    " \n",
    "numRegex = re.compile(r\"((?<!\\d)\\d{1,3}(?!\\d)(,\\d{3})*)\")\n",
    "txt = '6,368,745'\n",
    "xs = numRegex.findall(txt)\n",
    "for x in xs:\n",
    "    print(x[0])"
   ]
  },
  {
   "cell_type": "code",
   "execution_count": null,
   "id": "3eb474da",
   "metadata": {},
   "outputs": [],
   "source": [
    "21. How would you write a regex that matches the full name of someone whose last name is Watanabe? \n",
    "You can assume that the first name that comes before it will always be one word that begins with a capital letter. \n",
    "The regex must match the following:\n",
    "'Haruto Watanabe'\n",
    "'Alice Watanabe'\n",
    "'RoboCop Watanabe'\n",
    "but not the following:\n",
    "'haruto Watanabe' (where the first name is not capitalized)\n",
    "'Mr. Watanabe' (where the preceding word has a nonletter character)\n",
    "'Watanabe' (which has no first name)\n",
    "'Haruto watanabe' (where Watanabe is not capitalized)\n",
    "\n",
    "\n",
    "\n",
    "import re\n",
    "\n",
    "def printMatch(name):\n",
    "    pat = re.compile(r'\\b[A-Z][a-zA-Z]+\\sWatanabe')\n",
    "    if pat.search(name):\n",
    "        print ('\"'+name+'\" matches')\n",
    "    else:\n",
    "        print ('\"'+name+'\" does not match')\n",
    "\n",
    "printMatch('Haruto Watanabe')\n",
    "printMatch('Alice Watanabe')\n",
    "printMatch('RoboCop Watanabe')\n",
    "printMatch('haruto Watanabe')\n",
    "printMatch('Mr. Watanabe')\n",
    "printMatch('Watanabe')\n",
    "printMatch('Haruto watanabe')\n",
    "\n",
    "\"Haruto Watanabe\" matches\n",
    "\"Alice Watanabe\" matches\n",
    "\"RoboCop Watanabe\" matches\n",
    "\"haruto Watanabe\" does not match\n",
    "\"Mr. Watanabe\" does not match\n",
    "\"Watanabe\" does not match\n",
    "\"Haruto watanabe\" does not match\n"
   ]
  },
  {
   "cell_type": "code",
   "execution_count": null,
   "id": "282d13b8",
   "metadata": {},
   "outputs": [],
   "source": [
    "22. How would you write a regex that matches a sentence where the first word is either Alice, Bob, or Carol; \n",
    "the second word is either eats, pets, or throws; the third word is apples, cats, or baseballs; \n",
    "and the sentence ends with a period? This regex should be case-insensitive. It must match the following:\n",
    "'Alice eats apples.'\n",
    "'Bob pets cats.'\n",
    "'Carol throws baseballs.'\n",
    "'Alice throws Apples.'\n",
    "'BOB EATS CATS.'\n",
    "but not the following:\n",
    "'RoboCop eats apples.'\n",
    "'ALICE THROWS FOOTBALLS.'\n",
    "'Carol eats 7 cats.'\n",
    "\n",
    "\n",
    "\n",
    "import re\n",
    "def printMatch(name):\n",
    "    pat =re.compile(r'(Alice|Bob|Carol)\\s+(eats|pets|throws)\\s+(apples|cats|baseballs)\\.', re.IGNORECASE)\n",
    "    if pat.search(name):\n",
    "        print ('\"'+name+'\" matches')\n",
    "    else:\n",
    "        print ('\"'+name+'\" does not match')\n",
    "        \n",
    "printMatch('Alice eats apples.')\n",
    "printMatch('Bob pets cats.')\n",
    "printMatch('Carol throws baseballs.')\n",
    "printMatch('BOB EATS CATS.')\n",
    "printMatch('Alice throws Apples.')\n",
    "printMatch('RoboCop eats apples.')\n",
    "printMatch('ALICE THROWS FOOTBALLS.')\n",
    "printMatch('Carol eats 7 cats.')\n",
    "\n",
    "\n",
    "\"Alice eats apples.\" matches\n",
    "\"Bob pets cats.\" matches\n",
    "\"Carol throws baseballs.\" matches\n",
    "\"BOB EATS CATS.\" matches\n",
    "\"Alice throws Apples.\" matches\n",
    "\"RoboCop eats apples.\" does not match\n",
    "\"ALICE THROWS FOOTBALLS.\" does not match\n",
    "\"Carol eats 7 cats.\" does not match"
   ]
  }
 ],
 "metadata": {
  "kernelspec": {
   "display_name": "Python 3 (ipykernel)",
   "language": "python",
   "name": "python3"
  },
  "language_info": {
   "codemirror_mode": {
    "name": "ipython",
    "version": 3
   },
   "file_extension": ".py",
   "mimetype": "text/x-python",
   "name": "python",
   "nbconvert_exporter": "python",
   "pygments_lexer": "ipython3",
   "version": "3.9.7"
  }
 },
 "nbformat": 4,
 "nbformat_minor": 5
}
