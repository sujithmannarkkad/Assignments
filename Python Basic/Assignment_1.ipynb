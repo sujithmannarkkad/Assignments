{
 "cells": [
  {
   "cell_type": "code",
   "execution_count": null,
   "id": "d1920354",
   "metadata": {},
   "outputs": [],
   "source": [
    "1. In the below elements which of them are values or an expression? eg:- values can be integer or string and expressions will be mathematical operators.\n",
    "\n",
    "* --> Expression\n",
    "\n",
    "'hello' -->Value\n",
    "\n",
    "-87.8 -->Value\n",
    "\n",
    "- --> Expression\n",
    "\n",
    "/ --> Expression\n",
    "\n",
    "6 -->Value\n",
    "\n"
   ]
  },
  {
   "cell_type": "code",
   "execution_count": null,
   "id": "27493822",
   "metadata": {},
   "outputs": [],
   "source": [
    "2. What is the difference between string and variable?\n",
    "\n",
    "Variable is an identifier to store value in the memory.\n",
    "Eg: a=10, here a is an ideitifier of data type int.\n",
    "\n",
    "string is one of the different types of variables in python. It is assigned to a variable using single or double quote.\n",
    "\n",
    "Eg: name='Sujith'\n",
    "address=\"ABC\""
   ]
  },
  {
   "cell_type": "code",
   "execution_count": null,
   "id": "abdfeb58",
   "metadata": {},
   "outputs": [],
   "source": [
    "3. Describe three different data types.\n",
    "\n",
    "int\n",
    " Eg: a=10\n",
    " \n",
    "float\n",
    " Eg: pi=3.14\n",
    " \n",
    "list - It can store multiple items in single variable. It is mutable.\n",
    " Eg: l=[1,2,'Sjjith',3.14,3+3j,[1,2,3]]\n",
    "\n",
    "bool\n",
    " Eg: True, False\n",
    "   "
   ]
  },
  {
   "cell_type": "code",
   "execution_count": null,
   "id": "8ef3b9f4",
   "metadata": {},
   "outputs": [],
   "source": [
    "4. What is an expression made up of? What do all expressions do?\n",
    "\n",
    "An expression is a combination of values, variables, operators, and calls to functions.\n",
    "Expressions need to be evaluated. If you ask Python to print an expression, the interpreter evaluates the \n",
    "expression and displays the result."
   ]
  },
  {
   "cell_type": "code",
   "execution_count": 6,
   "id": "df9a9791",
   "metadata": {},
   "outputs": [
    {
     "name": "stdout",
     "output_type": "stream",
     "text": [
      "4\n"
     ]
    }
   ],
   "source": [
    "print(1+3)\n",
    "#Expression 1+3 is evaluated and result is printed\n"
   ]
  },
  {
   "cell_type": "code",
   "execution_count": null,
   "id": "3c5af358",
   "metadata": {},
   "outputs": [],
   "source": [
    "5. This assignment statements, like spam = 10. What is the difference between an expression and a statement?\n",
    "\n",
    "An expression is any legal combination of symbols that represents a value. \n",
    "Eg: 3+2/5. \n",
    "A statement is a programming instruction that does something i.e. some action takes place.\n",
    "Eg: if a>10"
   ]
  },
  {
   "cell_type": "code",
   "execution_count": null,
   "id": "21775e51",
   "metadata": {},
   "outputs": [],
   "source": [
    "6. After running the following code, what does the variable bacon contain?\n",
    "bacon = 22\n",
    "bacon + 1\n",
    "\n",
    "Answer: 23"
   ]
  },
  {
   "cell_type": "code",
   "execution_count": 8,
   "id": "4ed9818a",
   "metadata": {},
   "outputs": [
    {
     "data": {
      "text/plain": [
       "23"
      ]
     },
     "execution_count": 8,
     "metadata": {},
     "output_type": "execute_result"
    }
   ],
   "source": [
    "bacon = 22\n",
    "bacon + 1"
   ]
  },
  {
   "cell_type": "code",
   "execution_count": null,
   "id": "01880832",
   "metadata": {},
   "outputs": [],
   "source": [
    "7. What should the values of the following two terms be?\n",
    "'spam' + 'spamspam' -->'spamspamspam'\n",
    "'spam' * 3 -->'spamspamspam'\n"
   ]
  },
  {
   "cell_type": "code",
   "execution_count": 24,
   "id": "8a431d9f",
   "metadata": {},
   "outputs": [
    {
     "name": "stdout",
     "output_type": "stream",
     "text": [
      "spamspamspam\n",
      "spamspamspam\n"
     ]
    }
   ],
   "source": [
    "print('spam' + 'spamspam')\n",
    "print('spam' * 3)"
   ]
  },
  {
   "cell_type": "code",
   "execution_count": null,
   "id": "de1ae32b",
   "metadata": {},
   "outputs": [],
   "source": [
    "8. Why is eggs a valid variable name while 100 is invalid?\n",
    "\n",
    "100 is a value and it cant be used as a variable. Variables are containers for values. They are not values in themselves. \n",
    "so we can use eggs as variable and cannot use 100 as a variable."
   ]
  },
  {
   "cell_type": "code",
   "execution_count": null,
   "id": "cf756d35",
   "metadata": {},
   "outputs": [],
   "source": [
    "9. What three functions can be used to get the integer, floating-point number, or string version of a value?\n",
    "\n",
    "int() can be used to get the integer version of a value\n",
    "Eg: int(10.3)\n",
    "If we cant convert the value to int it will throw error.\n",
    "Eg: int('abc')\n",
    "\n",
    "float() can be used to get the floating point.\n",
    "Eg: float(10)\n",
    "If we cant convert the value to float it will throw error.\n",
    "Eg: float('abc')\n",
    "\n",
    "\n",
    "str() can be used to get the string version of a value.\n",
    "Eg: str(10), str(10.4)"
   ]
  },
  {
   "cell_type": "code",
   "execution_count": null,
   "id": "0b1bca42",
   "metadata": {},
   "outputs": [],
   "source": [
    "10. Why does this expression cause an error? How can you fix it?\n",
    "'I have eaten ' + 99 + ' burritos.'\n",
    "\n",
    "Answer: We are trying to concatinate integer with string using + operator. It cannot be done and we are getting the error.\n",
    "It can be fixed by changing to : 'I have eaten ' + str(99) + ' burritos.'"
   ]
  }
 ],
 "metadata": {
  "kernelspec": {
   "display_name": "Python 3 (ipykernel)",
   "language": "python",
   "name": "python3"
  },
  "language_info": {
   "codemirror_mode": {
    "name": "ipython",
    "version": 3
   },
   "file_extension": ".py",
   "mimetype": "text/x-python",
   "name": "python",
   "nbconvert_exporter": "python",
   "pygments_lexer": "ipython3",
   "version": "3.9.7"
  }
 },
 "nbformat": 4,
 "nbformat_minor": 5
}
