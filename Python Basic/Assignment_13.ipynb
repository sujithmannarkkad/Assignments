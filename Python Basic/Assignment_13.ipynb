{
 "cells": [
  {
   "cell_type": "code",
   "execution_count": null,
   "id": "27d8d260",
   "metadata": {},
   "outputs": [],
   "source": [
    "1. What advantages do Excel spreadsheets have over CSV spreadsheets?\n",
    "\n",
    "CSV file can't perform operations on data while Excel can perform operations on the data. \n",
    "Comparing CSV vs Xlsx, CSV files are faster and also consumes less memory whereas Excel \n",
    "consumes more memory while importing data."
   ]
  },
  {
   "cell_type": "code",
   "execution_count": null,
   "id": "bdf7e6a7",
   "metadata": {},
   "outputs": [],
   "source": [
    "2.What do you pass to csv.reader() and csv.writer() to create reader and writer objects?\n",
    "\n",
    "The CSV module provides the functions reader and writer, which work in a sequential manner.\n",
    "It also has the DictReader and DictWriter classes to manage your CSV data in the form of a Python dictionary object.\n",
    "\n",
    "The csv.reader(csvfile, dialect='excel', **fmtparams) method can be used to extract data from a file that contains CSV-formatted data.\n",
    "\n",
    "It takes the following parameters:\n",
    "\n",
    "csvfile: An object that supports the iterator protocol, which in this case is usually a file object for the CSV file\n",
    "dialect (optional): The name of the dialect to use (which will be explained in later sections)\n",
    "fmtparams (optional): Formatting parameters that will overwrite those specified in the dialect\n",
    "    \n",
    "\n",
    "The csv.writer(csvfile, dialect='excel', **fmtparams) method, which is similar to the reader method we described above, is a method that permits us to write data to a file in CSV format.\n",
    "\n",
    "This method takes the following parameters:\n",
    "\n",
    "csvfile: Any object with a write() method, which in this case is usually a file object\n",
    "dialect (optional): The name of the dialect to use\n",
    "fmtparams (optional):Formatting parameters that will overwrite those specified in the dialect"
   ]
  },
  {
   "cell_type": "code",
   "execution_count": null,
   "id": "4a79faa4",
   "metadata": {},
   "outputs": [],
   "source": [
    "3. What modes do File objects for reader and writer objects need to be opened in?\n",
    "\n",
    "f = open(filename, mode)\n",
    "\n",
    "r: open an existing file for a read operation.\n",
    "w: open an existing file for a write operation. If the file already contains some data then it will be overridden.\n",
    "a:  open an existing file for append operation. It won’t override existing data.\n",
    "r+:  To read and write data into the file. The previous data in the file will not be deleted.\n",
    "w+: To write and read data. It will override existing data.\n",
    "a+: To append and read data from the file. It won’t override existing data."
   ]
  },
  {
   "cell_type": "code",
   "execution_count": null,
   "id": "4bf17583",
   "metadata": {},
   "outputs": [],
   "source": [
    "4. What method takes a list argument and writes it to a CSV file?\n",
    "\n",
    "The csv.writer writerow method takes an iterable as an argument and writes it to a CSV file.\n",
    "csvwriter.writerow(row)"
   ]
  },
  {
   "cell_type": "code",
   "execution_count": null,
   "id": "ac0aa50d",
   "metadata": {},
   "outputs": [],
   "source": [
    "5. What do the keyword arguments delimiter and line terminator do?\n",
    "\n",
    "The delimiter is the character that appears between cells on a row. By default, \n",
    "the delimiter for a CSV file is a comma. The line terminator is the character that comes at the end of a row. \n",
    "By default, the line terminator is a newline. You can change characters to different values by using \n",
    "the delimiter and lineterminator keyword arguments with csv.writer()."
   ]
  },
  {
   "cell_type": "code",
   "execution_count": null,
   "id": "3ea612cd",
   "metadata": {},
   "outputs": [],
   "source": [
    "6. What function takes a string of JSON data and returns a Python data structure?\n",
    "loads() method return Python data structure of JSON string or data\n",
    "\n",
    "with open(\"Sample.json\", \"r\") as read_it:\n",
    "     data = json.load(read_it)"
   ]
  },
  {
   "cell_type": "code",
   "execution_count": null,
   "id": "a9ebabd1",
   "metadata": {},
   "outputs": [],
   "source": [
    "7. What function takes a Python data structure and returns a string of JSON data?\n",
    "json.dumps() function\n",
    "\n",
    "import json\n",
    "\n",
    "\n",
    "a ={\"name\":\"John\",\n",
    "\"age\":31,\"Salary\":25000}\n",
    "\n",
    "# conversion to JSON done by dumps() function\n",
    "b = json.dumps(a)\n",
    "\n",
    "# printing the output\n",
    "print(b)"
   ]
  },
  {
   "cell_type": "code",
   "execution_count": null,
   "id": "6504ea84",
   "metadata": {},
   "outputs": [],
   "source": []
  }
 ],
 "metadata": {
  "kernelspec": {
   "display_name": "Python 3 (ipykernel)",
   "language": "python",
   "name": "python3"
  },
  "language_info": {
   "codemirror_mode": {
    "name": "ipython",
    "version": 3
   },
   "file_extension": ".py",
   "mimetype": "text/x-python",
   "name": "python",
   "nbconvert_exporter": "python",
   "pygments_lexer": "ipython3",
   "version": "3.9.7"
  }
 },
 "nbformat": 4,
 "nbformat_minor": 5
}
