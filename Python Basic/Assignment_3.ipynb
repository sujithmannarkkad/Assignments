{
 "cells": [
  {
   "cell_type": "code",
   "execution_count": null,
   "id": "8b569167",
   "metadata": {},
   "outputs": [],
   "source": [
    "1. Why are functions advantageous to have in your programs?\n",
    "\n",
    "\n",
    "Advantages of functions are \n",
    "1. Code reuse\n",
    "2. Seperation of logic and modules\n",
    "3. reduce duplicate code\n",
    "4. Better understanding and maintanance"
   ]
  },
  {
   "cell_type": "code",
   "execution_count": null,
   "id": "accd3251",
   "metadata": {},
   "outputs": [],
   "source": [
    "2. When does the code in a function run: when it's specified or when it's called?\n",
    "    \n",
    "    \n",
    "    Code inside a function will run when it is called.\n",
    "    \n",
    "def test():\n",
    "    print('This is a message from test method')\n",
    "    \n",
    "\n",
    "In this test() function the line print will get executed when the function is called."
   ]
  },
  {
   "cell_type": "code",
   "execution_count": null,
   "id": "e6b47034",
   "metadata": {},
   "outputs": [],
   "source": [
    "3. What statement creates a function?\n",
    "\n",
    "using 'def' keyword we can create a function in python.\n",
    "\n",
    "Example:\n",
    "    def test():\n",
    "        print('This is a message from test method')"
   ]
  },
  {
   "cell_type": "code",
   "execution_count": null,
   "id": "39c4c01f",
   "metadata": {},
   "outputs": [],
   "source": [
    "4. What is the difference between a function and a function call?\n",
    "\n",
    "function is the implementation of a logic or module using def keyword in python.\n",
    "function call is invoking that function to execute that logic.\n",
    "\n",
    "def sum(a,b):\n",
    "    return a+b\n",
    "\n",
    "the above two lines is the function named sum which will take two arguments and return the sum of the given input.\n",
    "\n",
    "sum(1,2)\n",
    "\n",
    "the above line is the function call to execute the logic written inside the function sum()"
   ]
  },
  {
   "cell_type": "code",
   "execution_count": null,
   "id": "e5c29713",
   "metadata": {},
   "outputs": [],
   "source": [
    "5. How many global scopes are there in a Python program? How many local scopes?\n",
    "\n",
    "Theres only one global Python scope per program execution. \n",
    "From the moment you start a Python program, you’re in the global Python scope.\n",
    "\n",
    "The local scope or function scope is a Python scope created at function calls. \n",
    "Every time you call a function, you’re also creating a new local scope.\n",
    "\n",
    "\n",
    "count=0 #count is global scope variable\n",
    "def sum(a,b):\n",
    "    c=a+b  #c is local scope variable\n",
    "    return c  "
   ]
  },
  {
   "cell_type": "code",
   "execution_count": null,
   "id": "bd869103",
   "metadata": {},
   "outputs": [],
   "source": [
    "6. What happens to variables in a local scope when the function call returns?\n",
    "\n",
    "the local variables are distroyed once the fun exection finishes. We will not be able to access it outside of the function.\n",
    "\n",
    "\n",
    "def test():\n",
    "    c=10  #c is local scope variable\n",
    "    return c  \n",
    "\n",
    "test()\n",
    "\n",
    "in the above function if we try to access variable 'c' outside of the function definition we will get error"
   ]
  },
  {
   "cell_type": "code",
   "execution_count": 2,
   "id": "068e34a1",
   "metadata": {},
   "outputs": [
    {
     "data": {
      "text/plain": [
       "10"
      ]
     },
     "execution_count": 2,
     "metadata": {},
     "output_type": "execute_result"
    }
   ],
   "source": [
    "7. What is the concept of a return value? Is it possible to have a return value in an expression?\n",
    "\n",
    "\n",
    "A return is a value that a function returns to the calling script or function when it completes its task. \n",
    "A return value can be any one of the four variable types: handle, integer, object, or string. \n",
    "The statements after the return statements are not executed.\n",
    "\n",
    "Example:\n",
    "\n",
    "def test():\n",
    "    return 'This is a test function'  #return type as string\n",
    "\n"
   ]
  },
  {
   "cell_type": "code",
   "execution_count": null,
   "id": "5ebaec70",
   "metadata": {},
   "outputs": [],
   "source": [
    "8. If a function does not have a return statement, what is the return value of a call to that function?\n",
    "\n",
    "If a function doesnt specify a return value, it returns None.\n",
    "\n",
    "Example:\n",
    "\n",
    "def test():\n",
    "    print('hi')\n",
    "    \n",
    "print(type(test())) \n",
    "\n",
    "type will be <class 'NoneType'>"
   ]
  },
  {
   "cell_type": "code",
   "execution_count": null,
   "id": "8db9dfa9",
   "metadata": {},
   "outputs": [],
   "source": [
    "9. How do you make a function variable refer to the global variable?\n",
    "\n",
    "We can use a global variable within other functions by declaring it as global within each function that assigns a value to it:\n",
    "\n",
    "globVar = 10\n",
    "\n",
    "def func1():\n",
    "    global globVar \n",
    "    globVar = 20\n",
    "\n",
    "def func2():\n",
    "    print (globVar)\n",
    "\n",
    "func1()\n",
    "func2()\n",
    "\n",
    "this will print value as 20 as we have used global keyword in func1.\n",
    "\n",
    "\n",
    "globVar = 10\n",
    "\n",
    "def func1():\n",
    "    globVar = 20\n",
    "\n",
    "def func2():\n",
    "    print (globVar)\n",
    "\n",
    "func1()\n",
    "func2()\n",
    "\n",
    "this code will print 10 as result, because we are not using global keyword while modifying.\n"
   ]
  },
  {
   "cell_type": "code",
   "execution_count": 18,
   "id": "5fef830b",
   "metadata": {},
   "outputs": [
    {
     "name": "stdout",
     "output_type": "stream",
     "text": [
      "10\n"
     ]
    }
   ],
   "source": [
    "10. What is the data type of None?\n",
    "\n",
    "It is a data type of the class NoneType object. If a function does not return anything, it returns None in python.\n",
    "\n",
    "print(type(None))\n",
    "<class 'NoneType'>\n",
    "\n"
   ]
  },
  {
   "cell_type": "code",
   "execution_count": null,
   "id": "1d6211c2",
   "metadata": {},
   "outputs": [],
   "source": [
    "11. What does the sentence import  do?\n",
    "\n",
    "The import statement reads the code in a Python module and allows you to use it in another file.\n",
    "\n",
    "Example:\n",
    "\n",
    "    \n",
    "import pandas as pd\n",
    "import numpy as np"
   ]
  },
  {
   "cell_type": "code",
   "execution_count": null,
   "id": "23b43417",
   "metadata": {},
   "outputs": [],
   "source": [
    "12. If you had a bacon() feature in a spam module, what would you call it after importing spam?\n",
    "\n",
    "import spam\n",
    "spam.bacon()"
   ]
  },
  {
   "cell_type": "code",
   "execution_count": null,
   "id": "49f73db6",
   "metadata": {},
   "outputs": [],
   "source": [
    "13. What can you do to save a programme from crashing if it encounters an error?\n",
    "\n",
    "we can write the code block within try except block. This will allow us to capture any errors while executing the program,\n",
    "and we can log it somewhere and fix the error."
   ]
  },
  {
   "cell_type": "code",
   "execution_count": null,
   "id": "29f78c90",
   "metadata": {},
   "outputs": [],
   "source": [
    "14. What is the purpose of the try clause? What is the purpose of the except clause?\n",
    "\n",
    "The try and except block in Python is used to catch and handle exceptions. \n",
    "Python executes code following the try statement as a “normal” part of the program. \n",
    "The code that follows the except statement is the program's response to any exceptions in the preceding try clause.\n",
    "\n",
    "\n",
    "Example:\n",
    "\n",
    "try:\n",
    "    a=0\n",
    "    b=1\n",
    "    c=b/a\n",
    "except Exception as e:\n",
    "    print(e)\n",
    "    \n",
    "This code block in the try statement will through a divide by zero error while execution and that can be catched in the \n",
    "exception block and we can handle"
   ]
  },
  {
   "cell_type": "code",
   "execution_count": null,
   "id": "841f10a5",
   "metadata": {},
   "outputs": [],
   "source": []
  }
 ],
 "metadata": {
  "kernelspec": {
   "display_name": "Python 3 (ipykernel)",
   "language": "python",
   "name": "python3"
  },
  "language_info": {
   "codemirror_mode": {
    "name": "ipython",
    "version": 3
   },
   "file_extension": ".py",
   "mimetype": "text/x-python",
   "name": "python",
   "nbconvert_exporter": "python",
   "pygments_lexer": "ipython3",
   "version": "3.9.7"
  }
 },
 "nbformat": 4,
 "nbformat_minor": 5
}
