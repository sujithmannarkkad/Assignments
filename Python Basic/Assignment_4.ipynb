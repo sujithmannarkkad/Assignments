{
 "cells": [
  {
   "cell_type": "code",
   "execution_count": null,
   "id": "4dd8c141",
   "metadata": {},
   "outputs": [],
   "source": [
    "1. What exactly is []?\n",
    "\n",
    "[] is an empty list.\n",
    "\n",
    "Example:\n",
    "l=[]\n",
    "print(type(l)) is <class 'list'>"
   ]
  },
  {
   "cell_type": "code",
   "execution_count": null,
   "id": "74d35544",
   "metadata": {},
   "outputs": [],
   "source": [
    "2. In a list of values stored in a variable called spam, how would you assign the value 'hello' as the third value? \n",
    "(Assume [2, 4, 6, 8, 10] are in spam.)\n",
    "\n",
    "spam=[2, 4, 6, 8, 10] \n",
    "spam.insert(2,'hello')\n",
    "print(spam)\n",
    "\n",
    "result: [2, 4, 'hello', 6, 8, 10]"
   ]
  },
  {
   "cell_type": "code",
   "execution_count": null,
   "id": "205e80a7",
   "metadata": {},
   "outputs": [],
   "source": [
    "Let's pretend the spam includes the list ['a', 'b', 'c', 'd'] for the next three queries.\n",
    "\n",
    "3. What is the value of spam[int(int('3' * 2) / 11)]?\n",
    "Answer: d\n",
    "\n",
    "4. What is the value of spam[-1]? \n",
    "Answer: d\n",
    "\n",
    "5. What is the value of spam[:2]?\n",
    "Answer: ['a', 'b']"
   ]
  },
  {
   "cell_type": "code",
   "execution_count": null,
   "id": "487d5772",
   "metadata": {},
   "outputs": [],
   "source": [
    "Let's pretend bacon has the list [3.14, 'cat', 11, 'cat', True] for the next three questions.\n",
    "\n",
    "6. What is the value of bacon.index('cat')? ==>1\n",
    "7. How does bacon.append(99) change the look of the list value in bacon? ==> [3.14, 'cat', 11, 'cat', True, 99]\n",
    "8. How does bacon.remove('cat') change the look of the list in bacon? ==>[3.14, 11, 'cat', True]\n"
   ]
  },
  {
   "cell_type": "code",
   "execution_count": null,
   "id": "4e8a3145",
   "metadata": {},
   "outputs": [],
   "source": [
    "9. What are the list concatenation and list replication operators?\n",
    "\n",
    "\n",
    "concatenation\n",
    "a=[1,2,3]\n",
    "b=[4,5,6]\n",
    "c=a+b \n",
    "print(c)==>[1,2,3,4,5,6]\n",
    "\n",
    "replication:\n",
    "a=[1,2,3]\n",
    "b=a*3\n",
    "print(b)==>[1, 2, 3, 1, 2, 3, 1, 2, 3]"
   ]
  },
  {
   "cell_type": "code",
   "execution_count": null,
   "id": "24702b26",
   "metadata": {},
   "outputs": [],
   "source": [
    "10. What is difference between the list methods append() and insert()?\n",
    "\n",
    "append will add the element to the end of the list\n",
    "\n",
    "a=[1,2,3]\n",
    "a.append(4)\n",
    "print(a) ==>1, 2, 3, 4]\n",
    "\n",
    "using insert we can specify the index of the list where we need to add the new element\n",
    "\n",
    "a=[1,2,3]\n",
    "a.insert(1,5)\n",
    "print(a)==>[1, 5, 2, 3]"
   ]
  },
  {
   "cell_type": "code",
   "execution_count": null,
   "id": "f9baa30a",
   "metadata": {},
   "outputs": [],
   "source": [
    "11. What are the two methods for removing items from a list?\n",
    "\n",
    "remove:\n",
    "the remove() method removes the first matching value\n",
    "\n",
    "a=[1,2,1,2,3]\n",
    "a.remove(2)\n",
    "print(a)==>[1, 1, 2, 3]\n",
    "\n",
    "pop\n",
    "\n",
    "Remove and return item at index (default last). Raises IndexError if list is empty or index is out of range.\n",
    "a=[1,2,1,2,3]\n",
    "a.pop(2)\n",
    "print(a)==>[1, 2, 2, 3]\n"
   ]
  },
  {
   "cell_type": "code",
   "execution_count": null,
   "id": "cb9e894d",
   "metadata": {},
   "outputs": [],
   "source": [
    "12. Describe how list values and string values are identical.\n",
    "\n",
    "Strings can be defined as sequential collections of characters.\n",
    "A list is a sequential collection of Python data values, where each value is identified by an index. \n",
    "The values that make up a list are called its elements. \n",
    "\n",
    "s='this is a string'\n",
    "for i in s:\n",
    "    print(i)\n",
    "    \n",
    "l=[1,2,3,4]\n",
    "for i in l:\n",
    "    print(i)\n",
    "\n",
    "above is the example for reading of string and list in similar way"
   ]
  },
  {
   "cell_type": "code",
   "execution_count": null,
   "id": "6da1656f",
   "metadata": {},
   "outputs": [],
   "source": [
    "13. What's the difference between tuples and lists?\n",
    "\n",
    "The key difference between the tuples and lists is that while the tuples are immutable objects the lists are mutable. \n",
    "This means that tuples cannot be changed while the lists can be modified. \n",
    "Tuples are more memory efficient than the lists.\n",
    "\n",
    "Example:\n",
    "t=(1,2,3)\n",
    "once this tuple is defined we cant add or modify elements of this tuple.\n",
    "t[0]=2 is not possible, it will thow error\n",
    "\n",
    "l=[1,2,3]\n",
    "\n",
    "elements in the list can be added or modified by different available functions like append, remove etc.\n",
    "l[0]=3 is a possible operation\n"
   ]
  },
  {
   "cell_type": "code",
   "execution_count": null,
   "id": "04664c2e",
   "metadata": {},
   "outputs": [],
   "source": [
    "14. How do you type a tuple value that only contains the integer 42?\n",
    "\n",
    "t=(42,)\n",
    "print(type(t)) ==><class 'tuple'>"
   ]
  },
  {
   "cell_type": "code",
   "execution_count": null,
   "id": "be92ad26",
   "metadata": {},
   "outputs": [],
   "source": [
    "15. How do you get a list value's tuple form? How do you get a tuple value's list form?\n",
    "\n",
    "t=(1,2,3 )\n",
    "print(type(t)) ==><class 'tuple'>\n",
    "l=list(t) #tuple to list conversion\n",
    "print(type(l)) ==><class 'list'>\n",
    "j=tuple(l) # list to tuple conversion\n",
    "print(type(j))==><class 'tuple'>"
   ]
  },
  {
   "cell_type": "code",
   "execution_count": null,
   "id": "35294f3d",
   "metadata": {},
   "outputs": [],
   "source": [
    "16. Variables that \"contain\" list values are not necessarily lists themselves. Instead, what do they contain?\n",
    "\n",
    "Variables will contain references to list values rather than list values themselves. \n",
    "\n",
    "a=[1,2,3]\n",
    "b=a # this will not create a new list instead reference in the variable a is copied\n",
    "b[0]=2 # the change in the 'b' variable will affect 'a' variable as well.\n",
    "print(a) ==>[2, 2, 3]\n",
    "print(b) ==>[2, 2, 3]"
   ]
  },
  {
   "cell_type": "code",
   "execution_count": null,
   "id": "09319436",
   "metadata": {},
   "outputs": [],
   "source": [
    "17. How do you distinguish between copy.copy() and copy.deepcopy()?\n",
    "\n",
    "copy and deepcopy creates a new copy of variable. \n",
    "So now changes to original variable will not be reflected to the copy variable and vice versa. \n",
    "However copy(shallow copy), don't creates a copy of nested objects, instead it just copies the reference of nested objects. \n",
    "Deepcopy copies all the nested objects recursively.\n",
    "\n",
    "#simple list using copy\n",
    "\n",
    "import copy\n",
    "i = [1,2,3]\n",
    "j = copy.copy(i)\n",
    "print(hex(id(i)), hex(id(j))) #Both addresses are different\n",
    "\n",
    "i.append(4)\n",
    "print(i,j) #Updation of original list didn't affected copied variable\n",
    "\n",
    "#nested list using copy\n",
    "\n",
    "i = [1,2,3,[4,5]]\n",
    "j = copy.copy(i)\n",
    "print(hex(id(i)), hex(id(j))) #Both addresses are different\n",
    "\n",
    "print(hex(id(i[3])), hex(id(j[3]))) #Nested lists have same address\n",
    "\n",
    "i[3].append(4)\n",
    "print(i,j) #Updation of original nested list updated the copy as well\n",
    "\n",
    "\n",
    "#simple list using deepcopy\n",
    "\n",
    "import copy\n",
    "i = [1,2,3]\n",
    "j = copy.deepcopy(i)\n",
    "print(hex(id(i)), hex(id(j))) #Both addresses are different\n",
    "\n",
    "i.append(4)\n",
    "print(i,j) #Updation of original list didn't affected copied variable\n",
    "\n",
    "#nested list using deepcopy\n",
    "import copy\n",
    "i = [1,2,3,[4,5]]\n",
    "j = copy.deepcopy(i)\n",
    "print(hex(id(i)), hex(id(j))) #Both addresses are different\n",
    "\n",
    "print(hex(id(i[3])), hex(id(j[3])))#Nested lists have different addresses\n",
    "\n",
    "i[3].append(4)\n",
    "print(i,j) #Updation of original nested list didn't affected the copied variable    \n",
    "\n"
   ]
  }
 ],
 "metadata": {
  "kernelspec": {
   "display_name": "Python 3 (ipykernel)",
   "language": "python",
   "name": "python3"
  },
  "language_info": {
   "codemirror_mode": {
    "name": "ipython",
    "version": 3
   },
   "file_extension": ".py",
   "mimetype": "text/x-python",
   "name": "python",
   "nbconvert_exporter": "python",
   "pygments_lexer": "ipython3",
   "version": "3.9.7"
  }
 },
 "nbformat": 4,
 "nbformat_minor": 5
}
