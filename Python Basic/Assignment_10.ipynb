{
 "cells": [
  {
   "cell_type": "code",
   "execution_count": null,
   "id": "28007f8b",
   "metadata": {},
   "outputs": [],
   "source": [
    "1. How do you distinguish between shutil.copy() and shutil.copytree()?\n",
    "The shutil. copy() function will copy a single file, while shutil. copytree() will copy an entire folder, \n",
    "along with all its contents."
   ]
  },
  {
   "cell_type": "code",
   "execution_count": null,
   "id": "5530d172",
   "metadata": {},
   "outputs": [],
   "source": [
    "2. What function is used to rename files?\n",
    "\n",
    "rename() method in Python is used to rename a file or directory.\n",
    "\n",
    "\n",
    "import os\n",
    "# Source file path\n",
    "source = 'Test/file.txt'\n",
    "  \n",
    "# destination file path\n",
    "dest = 'Test/newfile.txt'  \n",
    "  \n",
    "# Now rename the source path\n",
    "# to destination path\n",
    "# using os.rename() method\n",
    "os.rename(source, dest)"
   ]
  },
  {
   "cell_type": "code",
   "execution_count": null,
   "id": "6ea8418a",
   "metadata": {},
   "outputs": [],
   "source": [
    "3. What is the difference between the delete functions in the send2trash and shutil modules?\n",
    "The send2trash functions will move a file or folder to the recycle bin, \n",
    "while shutil functions will permanently delete files and folders."
   ]
  },
  {
   "cell_type": "code",
   "execution_count": null,
   "id": "eb83e743",
   "metadata": {},
   "outputs": [],
   "source": [
    "4.ZipFile objects have a close() method just like File objects’ close() method. What ZipFile method is\n",
    "equivalent to File objects’ open() method?\n",
    "\n",
    "The extractall() method for ZipFile objects extracts all the files and folders from a ZIP file into the current working directory.\n"
   ]
  },
  {
   "cell_type": "code",
   "execution_count": null,
   "id": "e9948e7b",
   "metadata": {},
   "outputs": [],
   "source": [
    "5. Create a programme that searches a folder tree for files with a certain file extension (such as .pdf\n",
    "or .jpg). Copy these files from whatever location they are in to a new folder.\n",
    "\n",
    "\n",
    "import os, shutil\n",
    "\n",
    "def selectiveCopy(folder, extensions, destFolder):\n",
    "    '''\n",
    "    function to copy the provided extension files from source folder to destination folder.\n",
    "    '''\n",
    "    try:\n",
    "        folder = os.path.abspath(folder)\n",
    "        destFolder = os.path.abspath(destFolder)\n",
    "        print('Looking in', folder, 'for files with extensions of', ', '.join(extensions))\n",
    "        for foldername, subfolders, filenames in os.walk(folder):\n",
    "            for filename in filenames:\n",
    "                name, extension = os.path.splitext(filename)\n",
    "                if extension in extensions:\n",
    "                    fileAbsPath = foldername + os.path.sep + filename\n",
    "                    print('Coping', fileAbsPath, 'to', destFolder)\n",
    "                    shutil.copy(fileAbsPath, destFolder)\n",
    "    except Exception as e:\n",
    "        print(e)\n",
    "        \n",
    "\n",
    "extensions = ['.php', '.ipynb']\n",
    "folder = r'C:\\Users\\sujith\\Desktop\\Learning\\Machine Learning\\Assignments'\n",
    "destFolder = r'C:\\Users\\sujith\\Desktop\\Learning\\Machine Learning\\Assignments\\New'\n",
    "selectiveCopy(folder, extensions, destFolder)"
   ]
  }
 ],
 "metadata": {
  "kernelspec": {
   "display_name": "Python 3 (ipykernel)",
   "language": "python",
   "name": "python3"
  },
  "language_info": {
   "codemirror_mode": {
    "name": "ipython",
    "version": 3
   },
   "file_extension": ".py",
   "mimetype": "text/x-python",
   "name": "python",
   "nbconvert_exporter": "python",
   "pygments_lexer": "ipython3",
   "version": "3.9.7"
  }
 },
 "nbformat": 4,
 "nbformat_minor": 5
}
