{
 "cells": [
  {
   "cell_type": "code",
   "execution_count": null,
   "id": "2c65f882",
   "metadata": {},
   "outputs": [],
   "source": [
    "1. What is the result of the code, and explain?\n"
   ]
  },
  {
   "cell_type": "code",
   "execution_count": 1,
   "id": "77f3d9e6",
   "metadata": {},
   "outputs": [
    {
     "name": "stdout",
     "output_type": "stream",
     "text": [
      "iNeuron\n"
     ]
    }
   ],
   "source": [
    "X = 'iNeuron'\n",
    "def func():\n",
    "    print(X)\n",
    "\n",
    "\n",
    "func()"
   ]
  },
  {
   "cell_type": "code",
   "execution_count": null,
   "id": "81b8f4bf",
   "metadata": {},
   "outputs": [],
   "source": [
    "#Ans. The global variables are accessible in side the functions in python. \n",
    "#Since x is global variable we are able to print it in side the function solution : 'iNeuron'"
   ]
  },
  {
   "cell_type": "code",
   "execution_count": null,
   "id": "92c9ab3b",
   "metadata": {},
   "outputs": [],
   "source": [
    "\n",
    "2. What is the result of the code, and explain?\n"
   ]
  },
  {
   "cell_type": "code",
   "execution_count": 2,
   "id": "d3fea14d",
   "metadata": {},
   "outputs": [
    {
     "name": "stdout",
     "output_type": "stream",
     "text": [
      "iNeuron\n"
     ]
    }
   ],
   "source": [
    "X = 'iNeuron'\n",
    "def func():\n",
    "    X = 'NI!'\n",
    "func()\n",
    "print(X)\n"
   ]
  },
  {
   "cell_type": "code",
   "execution_count": null,
   "id": "087d037e",
   "metadata": {},
   "outputs": [],
   "source": [
    "#Ans. The scope of assignment of variable X inside the function ends once the funcion call ends. \n",
    "# Since x is golbal variable we are able to print it out side of the function.The assignment inside \n",
    "#the function doesnt changed the value, if we want to change a global value inside a function we have to \n",
    "#use global keyword. output is 'iNeuron'"
   ]
  },
  {
   "cell_type": "code",
   "execution_count": null,
   "id": "25ac58ae",
   "metadata": {},
   "outputs": [],
   "source": [
    "\n",
    "4. What output does this code produce? Why?\n",
    "\n",
    "\n",
    ">>> X = 'iNeuron'\n",
    ">>> def func():\n",
    "global X\n",
    "X = 'NI'\n",
    "\n",
    "\n",
    ">>> func()\n",
    ">>> print(X)\n"
   ]
  },
  {
   "cell_type": "code",
   "execution_count": 5,
   "id": "f19781f5",
   "metadata": {},
   "outputs": [
    {
     "name": "stdout",
     "output_type": "stream",
     "text": [
      "NI!\n"
     ]
    }
   ],
   "source": [
    "X = 'iNeuron'\n",
    "def func():\n",
    "    global X\n",
    "    X = 'NI!'\n",
    "    \n",
    "func()\n",
    "print(X)"
   ]
  },
  {
   "cell_type": "code",
   "execution_count": null,
   "id": "ccc4acbc",
   "metadata": {},
   "outputs": [],
   "source": [
    "#since we have used global keyword inside the function we were able to modify the global variable value and \n",
    "# it will be available even after the scope of the function ends.\n",
    "#output is NI!"
   ]
  },
  {
   "cell_type": "code",
   "execution_count": null,
   "id": "7b9f9c81",
   "metadata": {},
   "outputs": [],
   "source": [
    "\n",
    "5. What about this code—what’s the output, and why?\n",
    "\n",
    "\n",
    ">>> X = 'iNeuron'\n",
    ">>> def func():\n",
    "X = 'NI'\n",
    "def nested():\n",
    "print(X)\n",
    "nested()\n",
    "\n",
    "\n",
    ">>> func()\n",
    ">>> X\n"
   ]
  },
  {
   "cell_type": "code",
   "execution_count": 12,
   "id": "2e0639c2",
   "metadata": {},
   "outputs": [
    {
     "name": "stdout",
     "output_type": "stream",
     "text": [
      "NI\n"
     ]
    },
    {
     "data": {
      "text/plain": [
       "'iNeuron'"
      ]
     },
     "execution_count": 12,
     "metadata": {},
     "output_type": "execute_result"
    }
   ],
   "source": [
    "X = 'iNeuron'\n",
    "def func():\n",
    "    X = 'NI'\n",
    "    def nested():\n",
    "        print(X)\n",
    "    nested()\n",
    "\n",
    "func()\n",
    "X"
   ]
  },
  {
   "cell_type": "code",
   "execution_count": null,
   "id": "f555647d",
   "metadata": {},
   "outputs": [],
   "source": [
    "#Ans. the nested() function will print 'NI' as it can access the local variable value assigned to X\n",
    "#however the value of global variable X wont be changing and X will have same value iNeuron"
   ]
  },
  {
   "cell_type": "code",
   "execution_count": null,
   "id": "221d81cd",
   "metadata": {},
   "outputs": [],
   "source": [
    "\n",
    "6. How about this code: what is its output in Python 3, and explain?\n",
    "\n",
    "\n",
    ">>> def func():\n",
    "X = 'NI'\n",
    "    def nested():\n",
    "    nonlocal X\n",
    "    X = 'Spam'\n",
    "    nested()\n",
    "    print(X)\n",
    "\n",
    "\n",
    ">>> func()\n"
   ]
  },
  {
   "cell_type": "code",
   "execution_count": 13,
   "id": "601cfe3e",
   "metadata": {},
   "outputs": [
    {
     "name": "stdout",
     "output_type": "stream",
     "text": [
      "Spam\n"
     ]
    }
   ],
   "source": [
    "\n",
    "def func():\n",
    "    X = 'NI'\n",
    "    def nested():\n",
    "        nonlocal X\n",
    "        X = 'Spam'\n",
    "    nested()\n",
    "    print(X)\n",
    "\n",
    "\n",
    "func()\n",
    "\n"
   ]
  },
  {
   "cell_type": "code",
   "execution_count": null,
   "id": "4371f7aa",
   "metadata": {},
   "outputs": [],
   "source": [
    "#Python nonlocal keyword is used to make the variable which refers to the variable bounded in the nearest scope. \n",
    "#here in this case the the assigned value inside nested function will be printed if we are not using nolocal with this same\n",
    "#code then we will be getting NI as output, please see the below output"
   ]
  },
  {
   "cell_type": "code",
   "execution_count": 14,
   "id": "e962bc0d",
   "metadata": {},
   "outputs": [
    {
     "name": "stdout",
     "output_type": "stream",
     "text": [
      "NI\n"
     ]
    }
   ],
   "source": [
    "def func():\n",
    "    X = 'NI'\n",
    "    def nested():\n",
    "        X = 'Spam'\n",
    "    nested()\n",
    "    print(X)\n",
    "\n",
    "\n",
    "func()"
   ]
  },
  {
   "cell_type": "code",
   "execution_count": null,
   "id": "f5d1d8e2",
   "metadata": {},
   "outputs": [],
   "source": []
  }
 ],
 "metadata": {
  "kernelspec": {
   "display_name": "Python 3 (ipykernel)",
   "language": "python",
   "name": "python3"
  },
  "language_info": {
   "codemirror_mode": {
    "name": "ipython",
    "version": 3
   },
   "file_extension": ".py",
   "mimetype": "text/x-python",
   "name": "python",
   "nbconvert_exporter": "python",
   "pygments_lexer": "ipython3",
   "version": "3.9.7"
  }
 },
 "nbformat": 4,
 "nbformat_minor": 5
}
