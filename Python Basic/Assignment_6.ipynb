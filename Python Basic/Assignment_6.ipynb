{
 "cells": [
  {
   "cell_type": "code",
   "execution_count": null,
   "id": "ababa4f2",
   "metadata": {},
   "outputs": [],
   "source": [
    "1. What are escape characters, and how do you use them?\n",
    "\n",
    "To insert characters that are illegal in a string, use an escape character.\n",
    "An escape character is a backslash \\ followed by the character you want to insert.\n",
    "An example of an illegal character is a double quote inside a string that is surrounded by double quotes:\n",
    "    \n",
    "Example:\n",
    "\n",
    "txt = \"Ram said \\\"I like that movie\\\"\"\n",
    "\n",
    "\"\\t\" is a tab, \"\\n\" is a new line, and \"\\r\" is a carriage return etc."
   ]
  },
  {
   "cell_type": "code",
   "execution_count": 5,
   "id": "641e302e",
   "metadata": {},
   "outputs": [],
   "source": [
    "2. What do the escape characters n and t stand for?\n",
    "\n",
    "\"\\t\" is a tab, \"\\n\" is a new line"
   ]
  },
  {
   "cell_type": "code",
   "execution_count": null,
   "id": "2f6936bd",
   "metadata": {},
   "outputs": [],
   "source": [
    "3. What is the way to include backslash characters in a string?\n",
    "\n",
    "Use the syntax \"\\\\\" within the string literal to represent a single backslash.\n",
    "\n",
    "print(\"\\\\\")==>\\"
   ]
  },
  {
   "cell_type": "code",
   "execution_count": null,
   "id": "bb4363b1",
   "metadata": {},
   "outputs": [],
   "source": [
    "4. The string \"Howl's Moving Castle\" is a correct value. Why isn't the single quote character in the word Howl's not escaped a problem?\n",
    "\n",
    "The single quote in Howl's is fine because we've used double quotes to mark the beginning and end of the string."
   ]
  },
  {
   "cell_type": "code",
   "execution_count": null,
   "id": "988245b5",
   "metadata": {},
   "outputs": [],
   "source": [
    "5. How do you write a string of newlines if you don't want to use the n character?\n",
    "\n",
    "if we use simple print() by default it will add a newline after the text however, \n",
    "\n",
    "print('Hello', end=\" \")\n",
    "print('Hi')\n",
    "\n",
    "if we write like this there wont be a new line after first print and the result will be Hello Hi"
   ]
  },
  {
   "cell_type": "code",
   "execution_count": null,
   "id": "48b42a02",
   "metadata": {},
   "outputs": [],
   "source": [
    "6. What are the values of the given expressions?\n",
    "'Hello, world!'[1] ==>e\n",
    "'Hello, world!'[0:5] ==>Hello\n",
    "'Hello, world!'[:5] ==>Hello\n",
    "'Hello, world!'[3:]==>lo, world!\n"
   ]
  },
  {
   "cell_type": "code",
   "execution_count": null,
   "id": "2dc1608d",
   "metadata": {},
   "outputs": [],
   "source": [
    "7. What are the values of the following expressions?\n",
    "'Hello'.upper()==>HELLO\n",
    "'Hello'.upper().isupper()==>True\n",
    "'Hello'.upper().lower()==>hello\n"
   ]
  },
  {
   "cell_type": "code",
   "execution_count": null,
   "id": "b8246ce4",
   "metadata": {},
   "outputs": [],
   "source": [
    "8. What are the values of the following expressions?\n",
    "'Remember, remember, the fifth of July.'.split()\n",
    "'-'.join('There can only one.'.split())\n",
    "==>There-can-only-one.\n"
   ]
  },
  {
   "cell_type": "code",
   "execution_count": null,
   "id": "661152a6",
   "metadata": {},
   "outputs": [],
   "source": [
    "9. What are the methods for right-justifying, left-justifying, and centering a string?\n",
    "\n",
    " ljust(), rjust(), center()\n",
    "These functions respectively left-justify, right-justify and center a string in a field of given width"
   ]
  },
  {
   "cell_type": "code",
   "execution_count": 33,
   "id": "4798e2c9",
   "metadata": {},
   "outputs": [],
   "source": [
    "10. What is the best way to remove whitespace characters from the start or end?\n",
    "\n",
    "using strip function\n",
    "\n",
    "s='  this is a sample string   '\n",
    "s.strip()\n",
    "\n",
    "==>'this is a sample string'"
   ]
  }
 ],
 "metadata": {
  "kernelspec": {
   "display_name": "Python 3 (ipykernel)",
   "language": "python",
   "name": "python3"
  },
  "language_info": {
   "codemirror_mode": {
    "name": "ipython",
    "version": 3
   },
   "file_extension": ".py",
   "mimetype": "text/x-python",
   "name": "python",
   "nbconvert_exporter": "python",
   "pygments_lexer": "ipython3",
   "version": "3.9.7"
  }
 },
 "nbformat": 4,
 "nbformat_minor": 5
}
