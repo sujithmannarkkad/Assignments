{
 "cells": [
  {
   "cell_type": "code",
   "execution_count": null,
   "id": "6c9896a0",
   "metadata": {},
   "outputs": [],
   "source": [
    "1. Add the current date to the text file today.txt as a string.\n"
   ]
  },
  {
   "cell_type": "code",
   "execution_count": 10,
   "id": "85ce62c1",
   "metadata": {},
   "outputs": [
    {
     "data": {
      "text/plain": [
       "'2022-02-01'"
      ]
     },
     "execution_count": 10,
     "metadata": {},
     "output_type": "execute_result"
    }
   ],
   "source": [
    "from datetime import date\n",
    "now = date.today()\n",
    "today = now.isoformat()\n",
    "today"
   ]
  },
  {
   "cell_type": "code",
   "execution_count": 11,
   "id": "b69f1dad",
   "metadata": {},
   "outputs": [],
   "source": [
    "f=open('today.txt','w')\n",
    "f.write(today)\n",
    "f.close()\n"
   ]
  },
  {
   "cell_type": "code",
   "execution_count": null,
   "id": "1dd7f4b8",
   "metadata": {},
   "outputs": [],
   "source": [
    "2. Read the text file today.txt into the string today_string\n"
   ]
  },
  {
   "cell_type": "code",
   "execution_count": 12,
   "id": "821049ba",
   "metadata": {},
   "outputs": [
    {
     "data": {
      "text/plain": [
       "'2022-02-01'"
      ]
     },
     "execution_count": 12,
     "metadata": {},
     "output_type": "execute_result"
    }
   ],
   "source": [
    "f=open('today.txt','r')\n",
    "today_string=f.readline()\n",
    "f.close()\n",
    "today_string"
   ]
  },
  {
   "cell_type": "code",
   "execution_count": null,
   "id": "6971030b",
   "metadata": {},
   "outputs": [],
   "source": [
    "3. Parse the date from today_string."
   ]
  },
  {
   "cell_type": "code",
   "execution_count": 14,
   "id": "866bf816",
   "metadata": {},
   "outputs": [
    {
     "data": {
      "text/plain": [
       "datetime.datetime(2022, 2, 1, 0, 0)"
      ]
     },
     "execution_count": 14,
     "metadata": {},
     "output_type": "execute_result"
    }
   ],
   "source": [
    "from datetime import datetime\n",
    "format = '%Y-%m-%d'\n",
    "datetime.strptime(today_string,format)"
   ]
  },
  {
   "cell_type": "code",
   "execution_count": null,
   "id": "7ec90455",
   "metadata": {},
   "outputs": [],
   "source": [
    "4. List the files in your current directory\n"
   ]
  },
  {
   "cell_type": "code",
   "execution_count": 15,
   "id": "45122f52",
   "metadata": {},
   "outputs": [
    {
     "data": {
      "text/plain": [
       "['.ipynb_checkpoints',\n",
       " 'Assignment_1.ipynb',\n",
       " 'Assignment_10.ipynb',\n",
       " 'Assignment_11.ipynb',\n",
       " 'Assignment_12.ipynb',\n",
       " 'Assignment_13.ipynb',\n",
       " 'Assignment_14.ipynb',\n",
       " 'Assignment_15.ipynb',\n",
       " 'Assignment_16.ipynb',\n",
       " 'Assignment_17.ipynb',\n",
       " 'Assignment_18.ipynb',\n",
       " 'Assignment_19.ipynb',\n",
       " 'Assignment_2.ipynb',\n",
       " 'Assignment_20.ipynb',\n",
       " 'Assignment_21.ipynb',\n",
       " 'Assignment_3.ipynb',\n",
       " 'Assignment_4.ipynb',\n",
       " 'Assignment_5.ipynb',\n",
       " 'Assignment_6.ipynb',\n",
       " 'Assignment_7.ipynb',\n",
       " 'Assignment_8.ipynb',\n",
       " 'Assignment_9.ipynb',\n",
       " 'books.csv',\n",
       " 'books.db',\n",
       " 'flower.jpg',\n",
       " 'flower_400.jpg',\n",
       " 'profile pic.jpg',\n",
       " 'SSLC Focus-Area_2022Wott.pdf',\n",
       " 'test.txt',\n",
       " 'today.txt',\n",
       " 'zoo.py',\n",
       " '__pycache__']"
      ]
     },
     "execution_count": 15,
     "metadata": {},
     "output_type": "execute_result"
    }
   ],
   "source": [
    "import os\n",
    "os.listdir()"
   ]
  },
  {
   "cell_type": "code",
   "execution_count": null,
   "id": "592006cb",
   "metadata": {},
   "outputs": [],
   "source": [
    "5. Create a list of all of the files in your parent directory (minimum five files should be available)."
   ]
  },
  {
   "cell_type": "code",
   "execution_count": 1,
   "id": "2adc68be",
   "metadata": {},
   "outputs": [
    {
     "data": {
      "text/plain": [
       "['Computer Vision',\n",
       " 'Deep Learning',\n",
       " 'DL And CV Practical',\n",
       " 'DSA Lectures',\n",
       " 'Excel',\n",
       " 'Machine Learning',\n",
       " 'Machine Learning Practical',\n",
       " 'New',\n",
       " 'NLP',\n",
       " 'Power BI',\n",
       " 'Python Advance',\n",
       " 'Python Advance Programming',\n",
       " 'Python Basic',\n",
       " 'Python Programming Basic',\n",
       " 'SQL',\n",
       " 'Statistics',\n",
       " 'TABLEAU',\n",
       " 'Tableau Projects']"
      ]
     },
     "execution_count": 1,
     "metadata": {},
     "output_type": "execute_result"
    }
   ],
   "source": [
    "import os\n",
    "os.chdir('../')\n",
    "\n",
    "os.listdir()"
   ]
  },
  {
   "cell_type": "code",
   "execution_count": null,
   "id": "28ba963b",
   "metadata": {},
   "outputs": [],
   "source": [
    "6. Use multiprocessing to create three separate processes. \n",
    "Make each one wait a random number of seconds between one and five, print the current time, and then exit.\n"
   ]
  },
  {
   "cell_type": "code",
   "execution_count": 11,
   "id": "c788875e",
   "metadata": {},
   "outputs": [],
   "source": [
    "import multiprocessing\n",
    "from datetime import datetime\n",
    "from time import sleep\n",
    "import random \n",
    "\n",
    "def printsec(seconds):\n",
    "    \n",
    "    sleep(seconds)\n",
    "    print('wait', seconds, 'seconds, time is', datetime.utcnow())\n",
    "    \n",
    "if __name__ == '__main__':\n",
    "       \n",
    "    for n in range(3):\n",
    "        seconds = random.choice(range(1,5))\n",
    "        proc = multiprocessing.Process(target=printsec, args=(seconds,))\n",
    "        proc.start()"
   ]
  },
  {
   "cell_type": "code",
   "execution_count": 2,
   "id": "aa574697",
   "metadata": {},
   "outputs": [
    {
     "name": "stdout",
     "output_type": "stream",
     "text": [
      "wait 1 seconds, time is 2022-02-01 16:44:12.153254\n",
      "wait 2 seconds, time is 2022-02-01 16:44:13.287289\n",
      "wait 3 seconds, time is 2022-02-01 16:44:14.032689\n"
     ]
    }
   ],
   "source": [
    "!python multy_process.py\n"
   ]
  },
  {
   "cell_type": "code",
   "execution_count": null,
   "id": "36bc2f0b",
   "metadata": {},
   "outputs": [],
   "source": [
    "7. Create a date object of your day of birth.\n"
   ]
  },
  {
   "cell_type": "code",
   "execution_count": 20,
   "id": "9efb02a0",
   "metadata": {},
   "outputs": [
    {
     "data": {
      "text/plain": [
       "datetime.date(1988, 11, 6)"
      ]
     },
     "execution_count": 20,
     "metadata": {},
     "output_type": "execute_result"
    }
   ],
   "source": [
    "from datetime import date\n",
    "my_dob = date(1988,11,6)\n",
    "my_dob"
   ]
  },
  {
   "cell_type": "code",
   "execution_count": null,
   "id": "497bbc9c",
   "metadata": {},
   "outputs": [],
   "source": [
    "8. What day of the week was your day of birth?\n"
   ]
  },
  {
   "cell_type": "code",
   "execution_count": 14,
   "id": "956eac97",
   "metadata": {},
   "outputs": [
    {
     "data": {
      "text/plain": [
       "6"
      ]
     },
     "execution_count": 14,
     "metadata": {},
     "output_type": "execute_result"
    }
   ],
   "source": [
    "my_dob.weekday()"
   ]
  },
  {
   "cell_type": "code",
   "execution_count": 15,
   "id": "92ed1dfd",
   "metadata": {},
   "outputs": [
    {
     "name": "stdout",
     "output_type": "stream",
     "text": [
      "Day of the week is  Sunday\n"
     ]
    }
   ],
   "source": [
    "week   = [   'Monday', \n",
    "              'Tuesday', \n",
    "              'Wednesday', \n",
    "              'Thursday',  \n",
    "              'Friday', \n",
    "              'Saturday',\n",
    "              'Sunday'\n",
    "           ]\n",
    "\n",
    "print('Day of the week is ',week[my_dob.weekday()])"
   ]
  },
  {
   "cell_type": "code",
   "execution_count": null,
   "id": "4a6cb8ab",
   "metadata": {},
   "outputs": [],
   "source": [
    "9. When will you be (or when were you) 10,000 days old?\n",
    "        "
   ]
  },
  {
   "cell_type": "code",
   "execution_count": 21,
   "id": "8a2e6bb2",
   "metadata": {},
   "outputs": [
    {
     "data": {
      "text/plain": [
       "datetime.date(2016, 3, 24)"
      ]
     },
     "execution_count": 21,
     "metadata": {},
     "output_type": "execute_result"
    }
   ],
   "source": [
    "from datetime import timedelta\n",
    "day10000 = my_dob + timedelta(days=10000)\n",
    "day10000"
   ]
  },
  {
   "cell_type": "code",
   "execution_count": null,
   "id": "9daa0013",
   "metadata": {},
   "outputs": [],
   "source": []
  }
 ],
 "metadata": {
  "kernelspec": {
   "display_name": "Python 3 (ipykernel)",
   "language": "python",
   "name": "python3"
  },
  "language_info": {
   "codemirror_mode": {
    "name": "ipython",
    "version": 3
   },
   "file_extension": ".py",
   "mimetype": "text/x-python",
   "name": "python",
   "nbconvert_exporter": "python",
   "pygments_lexer": "ipython3",
   "version": "3.9.7"
  }
 },
 "nbformat": 4,
 "nbformat_minor": 5
}
