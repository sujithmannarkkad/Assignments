{
 "cells": [
  {
   "cell_type": "code",
   "execution_count": null,
   "id": "daebb342",
   "metadata": {},
   "outputs": [],
   "source": [
    "1.What are the two values of the Boolean data type? How do you write them?\n",
    "\n",
    "Answer: True , False are two values of boolean data type. \n",
    "    We can assign like \n",
    "    a= True\n",
    "    b=False"
   ]
  },
  {
   "cell_type": "code",
   "execution_count": null,
   "id": "01171818",
   "metadata": {},
   "outputs": [],
   "source": [
    "2. What are the three different types of Boolean operators?\n",
    "\n",
    "and, or, not are three boolean operators.\n",
    "\n",
    "True and True --> True\n",
    "True and False-->False\n",
    "\n",
    "True or False-->True\n",
    "False or False-->False\n",
    "\n",
    "not(True)-->False\n",
    "not(False)-->True"
   ]
  },
  {
   "cell_type": "code",
   "execution_count": 16,
   "id": "0fc52d56",
   "metadata": {},
   "outputs": [
    {
     "data": {
      "text/plain": [
       "False"
      ]
     },
     "execution_count": 16,
     "metadata": {},
     "output_type": "execute_result"
    }
   ],
   "source": [
    "3. Make a list of each Boolean operator's truth tables \n",
    "(i.e. every possible combination of Boolean values for the operator and what it evaluate ).\n",
    "\n",
    "AND \n",
    "---\n",
    "\n",
    "True and True -->True\n",
    "True and False -->False\n",
    "False and True --> False\n",
    "False and False --> False\n",
    "\n",
    "OR\n",
    "--\n",
    "\n",
    "True or True -->True\n",
    "True or False-->True\n",
    "False or True -->True\n",
    "False or False -->False\n",
    "\n",
    "NOT\n",
    "---\n",
    "not(True)-->False\n",
    "not(False)-->True"
   ]
  },
  {
   "cell_type": "code",
   "execution_count": null,
   "id": "d0bae315",
   "metadata": {},
   "outputs": [],
   "source": [
    "4. What are the values of the following expressions?\n",
    "(5 > 4) and (3 == 5)  --> False\n",
    "not (5 > 4)           --> False\n",
    "(5 > 4) or (3 == 5)   -->True\n",
    "not ((5 > 4) or (3 == 5)) -->False\n",
    "(True and True) and (True == False) -->False\n",
    "(not False) or (not True) -->True\n"
   ]
  },
  {
   "cell_type": "code",
   "execution_count": 22,
   "id": "67544ea8",
   "metadata": {},
   "outputs": [
    {
     "data": {
      "text/plain": [
       "True"
      ]
     },
     "execution_count": 22,
     "metadata": {},
     "output_type": "execute_result"
    }
   ],
   "source": [
    "5. What are the six comparison operators?\n",
    "\n",
    "1) > (less than) : 10>5\n",
    "2) < (greater than): 4<3\n",
    "3) == (equal to): 3==3\n",
    "4) <= (less than or equal to): 3<=4\n",
    "5) >= (greater than or equal to): 5>=10\n",
    "6) != (not equal to): 3!=10"
   ]
  },
  {
   "cell_type": "code",
   "execution_count": null,
   "id": "705ea09c",
   "metadata": {},
   "outputs": [],
   "source": [
    "6. How do you tell the difference between the equal to and assignment operators?\n",
    "Describe a condition and when you would use one.\n",
    "\n",
    "equal to comparision contains two '=' symbol. For example 10==20.\n",
    "Assignment operator contain only one '=' symbol. Eg: a=10\n",
    "\n",
    "a=10 # variable assignment\n",
    "if(a==10): # comparision operation\n",
    "    print('The number is 10')"
   ]
  },
  {
   "cell_type": "code",
   "execution_count": null,
   "id": "129cd8dc",
   "metadata": {},
   "outputs": [],
   "source": [
    "7. Identify the three blocks in this code:\n",
    "spam = 0\n",
    "if spam == 10:\n",
    "print('eggs') #intentation issue\n",
    "if spam > 5:\n",
    "print('bacon') #intentation issue\n",
    "else:\n",
    "print('ham') #intentation issue\n",
    "print('spam')\n",
    "print('spam')\n",
    "\n",
    "Updated Runing code is:\n",
    "    \n",
    "spam = 0\n",
    "if spam == 10:\n",
    "    print('eggs')\n",
    "if spam > 5:\n",
    "    print('bacon')\n",
    "else:\n",
    "    print('ham')\n",
    "print('spam')\n",
    "print('spam')\n",
    "\n"
   ]
  },
  {
   "cell_type": "code",
   "execution_count": null,
   "id": "8b5e7e6a",
   "metadata": {},
   "outputs": [],
   "source": [
    "8. Write code that prints Hello if 1 is stored in spam, prints Howdy if 2 is stored in spam, and prints Greetings! \n",
    "if anything else is stored in spam."
   ]
  },
  {
   "cell_type": "code",
   "execution_count": 33,
   "id": "7cc6725a",
   "metadata": {},
   "outputs": [
    {
     "name": "stdout",
     "output_type": "stream",
     "text": [
      "Hello\n"
     ]
    }
   ],
   "source": [
    "spam = 1\n",
    "if spam == 1:\n",
    "    print('Hello')\n",
    "elif spam ==2:\n",
    "    print('Howdy')\n",
    "else:\n",
    "    print('Greetings!')\n",
    "\n"
   ]
  },
  {
   "cell_type": "code",
   "execution_count": null,
   "id": "1a3b1b0f",
   "metadata": {},
   "outputs": [],
   "source": [
    "9.If your programme is stuck in an endless loop, what keys you’ll press?\n",
    "\n",
    "Ctrl+C"
   ]
  },
  {
   "cell_type": "code",
   "execution_count": null,
   "id": "f0da2d4a",
   "metadata": {},
   "outputs": [],
   "source": [
    "10. How can you tell the difference between break and continue?\n",
    "\n",
    "break will exit from the current for or while block.\n",
    "continue will skip the lines below the contine block and start with next iteration of the loop from the beginning.\n",
    "\n",
    "\n",
    "for(i in range(10)):\n",
    "    if(i==2):\n",
    "        continue\n",
    "    print(i)  #becaise of the above continue statement it will skip printing 2 and continue with next loop\n",
    "    if(i==5):\n",
    "        break #Once i become 5 because of this break and stop execution"
   ]
  },
  {
   "cell_type": "code",
   "execution_count": null,
   "id": "a9e34594",
   "metadata": {},
   "outputs": [],
   "source": [
    "11. In a for loop, what is the difference between range(10), range(0, 10), and range(0, 10, 1)?\n",
    "\n",
    "All represent the same.\n",
    "first argument is start, by default is 0, second argument is upper range, 3rd argument is step and by default it is 1. \n",
    "So all the 3 expressions will give same result."
   ]
  },
  {
   "cell_type": "code",
   "execution_count": null,
   "id": "75c03129",
   "metadata": {},
   "outputs": [],
   "source": [
    "12. Write a short program that prints the numbers 1 to 10 using a for loop. \n",
    "Then write an equivalent program that prints the numbers 1 to 10 using a while loop"
   ]
  },
  {
   "cell_type": "code",
   "execution_count": 38,
   "id": "cc2edea2",
   "metadata": {},
   "outputs": [
    {
     "name": "stdout",
     "output_type": "stream",
     "text": [
      "1\n",
      "2\n",
      "3\n",
      "4\n",
      "5\n",
      "6\n",
      "7\n",
      "8\n",
      "9\n",
      "10\n"
     ]
    }
   ],
   "source": [
    "#using for loop\n",
    "for i in range(1,11):    \n",
    "    print(i)\n",
    "    "
   ]
  },
  {
   "cell_type": "code",
   "execution_count": 40,
   "id": "340ea069",
   "metadata": {},
   "outputs": [
    {
     "name": "stdout",
     "output_type": "stream",
     "text": [
      "1\n",
      "2\n",
      "3\n",
      "4\n",
      "5\n",
      "6\n",
      "7\n",
      "8\n",
      "9\n",
      "10\n"
     ]
    }
   ],
   "source": [
    "#using while loop\n",
    "i=1\n",
    "while(i<11):\n",
    "    print(i)\n",
    "    i+=1"
   ]
  },
  {
   "cell_type": "code",
   "execution_count": null,
   "id": "5e849f8c",
   "metadata": {},
   "outputs": [],
   "source": [
    "13. If you had a function named bacon() inside a module named spam, how would you call it after importing spam?\n",
    "\n",
    "Answer:spam.bacon()"
   ]
  }
 ],
 "metadata": {
  "kernelspec": {
   "display_name": "Python 3 (ipykernel)",
   "language": "python",
   "name": "python3"
  },
  "language_info": {
   "codemirror_mode": {
    "name": "ipython",
    "version": 3
   },
   "file_extension": ".py",
   "mimetype": "text/x-python",
   "name": "python",
   "nbconvert_exporter": "python",
   "pygments_lexer": "ipython3",
   "version": "3.9.7"
  }
 },
 "nbformat": 4,
 "nbformat_minor": 5
}
