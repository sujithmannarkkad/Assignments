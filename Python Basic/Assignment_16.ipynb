{
 "cells": [
  {
   "cell_type": "code",
   "execution_count": null,
   "id": "47c6cf4a",
   "metadata": {},
   "outputs": [],
   "source": [
    "1. Create a list called years_list, starting with the year of your birth, \n",
    "and each year thereafter until the year of your fifth birthday. For example, if you were born in 1980. \n",
    "the list would be years_list = [1980, 1981, 1982, 1983, 1984, 1985]."
   ]
  },
  {
   "cell_type": "code",
   "execution_count": 6,
   "id": "0364ff34",
   "metadata": {},
   "outputs": [
    {
     "data": {
      "text/plain": [
       "[1988, 1989, 1990, 1991, 1992, 1993]"
      ]
     },
     "execution_count": 6,
     "metadata": {},
     "output_type": "execute_result"
    }
   ],
   "source": [
    "years_list=[1988,1989,1990,1991,1992,1993]\n",
    "years_list"
   ]
  },
  {
   "cell_type": "code",
   "execution_count": null,
   "id": "01ede07c",
   "metadata": {},
   "outputs": [],
   "source": [
    "2. In which year in years_list was your third birthday? Remember, you were 0 years of age for your first year."
   ]
  },
  {
   "cell_type": "code",
   "execution_count": 2,
   "id": "0f54d480",
   "metadata": {},
   "outputs": [
    {
     "data": {
      "text/plain": [
       "1991"
      ]
     },
     "execution_count": 2,
     "metadata": {},
     "output_type": "execute_result"
    }
   ],
   "source": [
    "years_list[3]"
   ]
  },
  {
   "cell_type": "code",
   "execution_count": null,
   "id": "355135d5",
   "metadata": {},
   "outputs": [],
   "source": [
    "3.In the years list, which year were you the oldest?\n"
   ]
  },
  {
   "cell_type": "code",
   "execution_count": 4,
   "id": "9b61b5d1",
   "metadata": {},
   "outputs": [
    {
     "data": {
      "text/plain": [
       "1993"
      ]
     },
     "execution_count": 4,
     "metadata": {},
     "output_type": "execute_result"
    }
   ],
   "source": [
    "years_list[-1]"
   ]
  },
  {
   "cell_type": "code",
   "execution_count": null,
   "id": "520bf94d",
   "metadata": {},
   "outputs": [],
   "source": [
    "4. Make a list called things with these three strings as elements: \"mozzarella\", \"cinderella\", \"salmonella\"."
   ]
  },
  {
   "cell_type": "code",
   "execution_count": 7,
   "id": "5f3591a6",
   "metadata": {},
   "outputs": [
    {
     "data": {
      "text/plain": [
       "['mozzarella', 'cinderella', 'salmonella']"
      ]
     },
     "execution_count": 7,
     "metadata": {},
     "output_type": "execute_result"
    }
   ],
   "source": [
    "things=[\"mozzarella\", \"cinderella\", \"salmonella\"]\n",
    "things"
   ]
  },
  {
   "cell_type": "code",
   "execution_count": null,
   "id": "027754aa",
   "metadata": {},
   "outputs": [],
   "source": [
    "5. Capitalize the element in things that refers to a person and then print the list. Did it change the element in the list?"
   ]
  },
  {
   "cell_type": "code",
   "execution_count": 8,
   "id": "adefa6de",
   "metadata": {},
   "outputs": [
    {
     "data": {
      "text/plain": [
       "'Cinderella'"
      ]
     },
     "execution_count": 8,
     "metadata": {},
     "output_type": "execute_result"
    }
   ],
   "source": [
    "things[1].capitalize()"
   ]
  },
  {
   "cell_type": "code",
   "execution_count": 9,
   "id": "8a67f856",
   "metadata": {},
   "outputs": [
    {
     "data": {
      "text/plain": [
       "['mozzarella', 'cinderella', 'salmonella']"
      ]
     },
     "execution_count": 9,
     "metadata": {},
     "output_type": "execute_result"
    }
   ],
   "source": [
    "things"
   ]
  },
  {
   "cell_type": "code",
   "execution_count": null,
   "id": "568aa461",
   "metadata": {},
   "outputs": [],
   "source": [
    "Did it change the element in the list? ==>No"
   ]
  },
  {
   "cell_type": "code",
   "execution_count": null,
   "id": "d47e1ace",
   "metadata": {},
   "outputs": [],
   "source": [
    "6. Make a surprise list with the elements \"Groucho,\" \"Chico,\" and \"Harpo.\"\n"
   ]
  },
  {
   "cell_type": "code",
   "execution_count": 13,
   "id": "3abc7e83",
   "metadata": {},
   "outputs": [
    {
     "data": {
      "text/plain": [
       "['Groucho', 'Chico', 'Harpo']"
      ]
     },
     "execution_count": 13,
     "metadata": {},
     "output_type": "execute_result"
    }
   ],
   "source": [
    "surprise=[\"Groucho\", \"Chico\",\"Harpo\"]\n",
    "surprise"
   ]
  },
  {
   "cell_type": "code",
   "execution_count": null,
   "id": "7f4f2597",
   "metadata": {},
   "outputs": [],
   "source": [
    "7. Lowercase the last element of the surprise list, reverse it, and then capitalize it.\n"
   ]
  },
  {
   "cell_type": "code",
   "execution_count": 31,
   "id": "0a63c44a",
   "metadata": {},
   "outputs": [
    {
     "name": "stdout",
     "output_type": "stream",
     "text": [
      "['Ohcuorg', 'Ocihc', 'Oprah']\n"
     ]
    }
   ],
   "source": [
    "def backitup(strings):\n",
    "    for i in range(len(strings)):\n",
    "        strings[i] = (strings[i])[::-1].lower().capitalize() \n",
    "    return(strings)\n",
    "\n",
    "surprise=[\"Groucho\", \"Chico\",\"Harpo\"]\n",
    "backitup(surprise)\n",
    "print(surprise)"
   ]
  },
  {
   "cell_type": "code",
   "execution_count": null,
   "id": "ca98c314",
   "metadata": {},
   "outputs": [],
   "source": [
    "8. Make an English-to-French dictionary called e2f and print it. Here are your starter words: dog is chien, cat is chat, and walrus is morse.\n"
   ]
  },
  {
   "cell_type": "code",
   "execution_count": 32,
   "id": "ff620a15",
   "metadata": {},
   "outputs": [
    {
     "data": {
      "text/plain": [
       "{'dog': 'chien', 'cat': 'chat', 'walrus': 'morse'}"
      ]
     },
     "execution_count": 32,
     "metadata": {},
     "output_type": "execute_result"
    }
   ],
   "source": [
    "e2f = {'dog':'chien','cat':'chat','walrus':'morse'}\n",
    "e2f"
   ]
  },
  {
   "cell_type": "code",
   "execution_count": null,
   "id": "215d5e18",
   "metadata": {},
   "outputs": [],
   "source": [
    "9. Write the French word for walrus in your three-word dictionary e2f.\n"
   ]
  },
  {
   "cell_type": "code",
   "execution_count": 33,
   "id": "9cb290f3",
   "metadata": {},
   "outputs": [
    {
     "data": {
      "text/plain": [
       "'morse'"
      ]
     },
     "execution_count": 33,
     "metadata": {},
     "output_type": "execute_result"
    }
   ],
   "source": [
    "e2f['walrus']"
   ]
  },
  {
   "cell_type": "code",
   "execution_count": null,
   "id": "539016b1",
   "metadata": {},
   "outputs": [],
   "source": [
    "10. Make a French-to-English dictionary called f2e from e2f. Use the items method.\n"
   ]
  },
  {
   "cell_type": "code",
   "execution_count": 34,
   "id": "577e2376",
   "metadata": {},
   "outputs": [
    {
     "data": {
      "text/plain": [
       "{'chien': 'dog', 'chat': 'cat', 'morse': 'walrus'}"
      ]
     },
     "execution_count": 34,
     "metadata": {},
     "output_type": "execute_result"
    }
   ],
   "source": [
    "f2e=dict((key,value) for (value,key) in e2f.items())\n",
    "f2e"
   ]
  },
  {
   "cell_type": "code",
   "execution_count": null,
   "id": "f4a4b151",
   "metadata": {},
   "outputs": [],
   "source": [
    "11. Print the English version of the French word chien using f2e.\n"
   ]
  },
  {
   "cell_type": "code",
   "execution_count": 35,
   "id": "dce8ada9",
   "metadata": {},
   "outputs": [
    {
     "data": {
      "text/plain": [
       "'dog'"
      ]
     },
     "execution_count": 35,
     "metadata": {},
     "output_type": "execute_result"
    }
   ],
   "source": [
    "f2e['chien']"
   ]
  },
  {
   "cell_type": "code",
   "execution_count": null,
   "id": "f83f1ef3",
   "metadata": {},
   "outputs": [],
   "source": [
    "12. Make and print a set of English words from the keys in e2f."
   ]
  },
  {
   "cell_type": "code",
   "execution_count": 36,
   "id": "d65e5e36",
   "metadata": {},
   "outputs": [
    {
     "data": {
      "text/plain": [
       "{'cat', 'dog', 'walrus'}"
      ]
     },
     "execution_count": 36,
     "metadata": {},
     "output_type": "execute_result"
    }
   ],
   "source": [
    "s=set(e2f.keys())\n",
    "s"
   ]
  },
  {
   "cell_type": "code",
   "execution_count": null,
   "id": "43ea4e7d",
   "metadata": {},
   "outputs": [],
   "source": [
    "13. Make a multilevel dictionary called life. Use these strings for the topmost\n",
    "keys: 'animals', 'plants', and 'other'. Make the 'animals' key refer to another \n",
    "    dictionary with the keys 'cats', 'octopi', and 'emus'. Make the 'cats' key refer \n",
    "    to a list of strings with the values 'Henri', 'Grumpy', and 'Lucy'. Make all the other keys \n",
    "    refer to empty dictionaries.\n"
   ]
  },
  {
   "cell_type": "code",
   "execution_count": 38,
   "id": "8c02a660",
   "metadata": {},
   "outputs": [
    {
     "data": {
      "text/plain": [
       "{'animals': {'cats': ['Henri', 'Grumpy', 'Lucy'], 'octopi': {}, 'emus': {}},\n",
       " 'plants': {},\n",
       " 'other': {}}"
      ]
     },
     "execution_count": 38,
     "metadata": {},
     "output_type": "execute_result"
    }
   ],
   "source": [
    "life={'animals':{'cats':['Henri', 'Grumpy', 'Lucy'],'octopi':{},'emus':{}},'plants':{},'other':{}}\n",
    "life"
   ]
  },
  {
   "cell_type": "code",
   "execution_count": null,
   "id": "2ef48932",
   "metadata": {},
   "outputs": [],
   "source": [
    "14. Print the top-level keys of life."
   ]
  },
  {
   "cell_type": "code",
   "execution_count": 39,
   "id": "550a1205",
   "metadata": {},
   "outputs": [
    {
     "data": {
      "text/plain": [
       "dict_keys(['animals', 'plants', 'other'])"
      ]
     },
     "execution_count": 39,
     "metadata": {},
     "output_type": "execute_result"
    }
   ],
   "source": [
    "life.keys()"
   ]
  },
  {
   "cell_type": "code",
   "execution_count": null,
   "id": "a5a08bc3",
   "metadata": {},
   "outputs": [],
   "source": [
    "15. Print the keys for life['animals']."
   ]
  },
  {
   "cell_type": "code",
   "execution_count": 40,
   "id": "0b8b5224",
   "metadata": {},
   "outputs": [
    {
     "data": {
      "text/plain": [
       "dict_keys(['cats', 'octopi', 'emus'])"
      ]
     },
     "execution_count": 40,
     "metadata": {},
     "output_type": "execute_result"
    }
   ],
   "source": [
    "life['animals'].keys()"
   ]
  },
  {
   "cell_type": "code",
   "execution_count": null,
   "id": "9b35fb5e",
   "metadata": {},
   "outputs": [],
   "source": [
    "16. Print the values for life['animals']['cats']"
   ]
  },
  {
   "cell_type": "code",
   "execution_count": 41,
   "id": "06a5af21",
   "metadata": {},
   "outputs": [
    {
     "data": {
      "text/plain": [
       "['Henri', 'Grumpy', 'Lucy']"
      ]
     },
     "execution_count": 41,
     "metadata": {},
     "output_type": "execute_result"
    }
   ],
   "source": [
    " life['animals']['cats']"
   ]
  },
  {
   "cell_type": "code",
   "execution_count": null,
   "id": "0b979371",
   "metadata": {},
   "outputs": [],
   "source": []
  }
 ],
 "metadata": {
  "kernelspec": {
   "display_name": "Python 3 (ipykernel)",
   "language": "python",
   "name": "python3"
  },
  "language_info": {
   "codemirror_mode": {
    "name": "ipython",
    "version": 3
   },
   "file_extension": ".py",
   "mimetype": "text/x-python",
   "name": "python",
   "nbconvert_exporter": "python",
   "pygments_lexer": "ipython3",
   "version": "3.9.7"
  }
 },
 "nbformat": 4,
 "nbformat_minor": 5
}
