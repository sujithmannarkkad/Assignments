{
 "cells": [
  {
   "cell_type": "code",
   "execution_count": null,
   "id": "678e8b35",
   "metadata": {},
   "outputs": [],
   "source": [
    "Q1. What is the meaning of multiple inheritance?"
   ]
  },
  {
   "cell_type": "code",
   "execution_count": null,
   "id": "8d9dc72b",
   "metadata": {},
   "outputs": [],
   "source": [
    "When a class is derived from more than one base class it is called multiple Inheritance. \n",
    "The derived class inherits all the features of the base case."
   ]
  },
  {
   "cell_type": "code",
   "execution_count": null,
   "id": "4b91ead9",
   "metadata": {},
   "outputs": [],
   "source": [
    "Syntax:\n",
    "\n",
    "Class Base1:\n",
    "       Body of the class\n",
    "\n",
    "Class Base2:\n",
    "     Body of the class\n",
    "\n",
    "Class Derived(Base1, Base2):\n",
    "     Body of the class"
   ]
  },
  {
   "cell_type": "code",
   "execution_count": null,
   "id": "012ead48",
   "metadata": {},
   "outputs": [],
   "source": [
    "Q2. What is the concept of delegation?\n"
   ]
  },
  {
   "cell_type": "code",
   "execution_count": null,
   "id": "c9d18bbd",
   "metadata": {},
   "outputs": [],
   "source": [
    "Delegation is an object oriented technique (also called a design pattern). \n",
    "Let's say you have an object x and want to change the behaviour of just one of its methods. \n",
    "You can create a new class that provides a new implementation of the method you're interested \n",
    "in changing and delegates all other methods to the corresponding method of x."
   ]
  },
  {
   "cell_type": "code",
   "execution_count": null,
   "id": "a006271f",
   "metadata": {},
   "outputs": [],
   "source": [
    "Q3. What is the concept of composition?\n"
   ]
  },
  {
   "cell_type": "code",
   "execution_count": null,
   "id": "839cf9b2",
   "metadata": {},
   "outputs": [],
   "source": [
    "In the concept of Composition, a class refers to one or more other classes by using instances of those \n",
    "classes as a instance variable. irrespective of inheritence in this approach all the parent class members are \n",
    "not inherited into child class, \n",
    "but only required methods from a class are used by using class instances."
   ]
  },
  {
   "cell_type": "code",
   "execution_count": 1,
   "id": "61aad3e2",
   "metadata": {},
   "outputs": [
    {
     "name": "stdout",
     "output_type": "stream",
     "text": [
      "Total Salary : 9600\n"
     ]
    }
   ],
   "source": [
    "class Salary:\n",
    "    def __init__(self,pay):\n",
    "        self.pay = pay\n",
    "    def get_total(self):\n",
    "        return self.pay*12\n",
    "    \n",
    "class Employee:\n",
    "    def __init__(self,pay,bonus):\n",
    "        self.pay = pay\n",
    "        self.bonus = bonus\n",
    "        self.obj_salary = Salary(self.pay)\n",
    "    def annual_salary(self):\n",
    "        return f'Total Salary : {str(self.obj_salary.get_total())}'\n",
    "\n",
    "obj_emp = Employee(800,500)\n",
    "print(obj_emp.annual_salary())"
   ]
  },
  {
   "cell_type": "code",
   "execution_count": null,
   "id": "fc48fe05",
   "metadata": {},
   "outputs": [],
   "source": [
    "Q4. What are bound methods and how do we use them?\n"
   ]
  },
  {
   "cell_type": "code",
   "execution_count": null,
   "id": "afe82333",
   "metadata": {},
   "outputs": [],
   "source": [
    "A bound method is the one which is dependent on the instance of the class as the first argument.\n",
    "It passes the instance as the first argument which is used to access the variables and functions. \n",
    "In Python 3 and newer versions of python, all functions in the class are by default bound methods."
   ]
  },
  {
   "cell_type": "code",
   "execution_count": 2,
   "id": "c9e81434",
   "metadata": {},
   "outputs": [
    {
     "name": "stdout",
     "output_type": "stream",
     "text": [
      "Car1 gears before calling change_gears() =  5\n",
      "Gears after calling change_gears() =  6\n",
      "<bound method Car.change_gears of <class '__main__.Car'>>\n"
     ]
    }
   ],
   "source": [
    "# Python code to demonstrate\n",
    "# use of bound methods\n",
    "  \n",
    "  \n",
    "class Car:\n",
    "    # Car class created\n",
    "    gears = 5\n",
    "  \n",
    "    # a class method to change the number of gears \n",
    "    @classmethod\n",
    "    def change_gears(cls, gears):\n",
    "        cls.gears = gears\n",
    "  \n",
    "  \n",
    "# instance of class Car created\n",
    "Car1 = Car()\n",
    "  \n",
    "  \n",
    "print(\"Car1 gears before calling change_gears() = \", Car1.gears)\n",
    "Car1.change_gears(6) \n",
    "print(\"Gears after calling change_gears() = \", Car1.gears)\n",
    "  \n",
    "# bound method\n",
    "print(Car1.change_gears)"
   ]
  },
  {
   "cell_type": "code",
   "execution_count": null,
   "id": "ff0e25c1",
   "metadata": {},
   "outputs": [],
   "source": [
    "Q5. What is the purpose of pseudoprivate attributes?\n"
   ]
  },
  {
   "cell_type": "code",
   "execution_count": null,
   "id": "bccfe1f4",
   "metadata": {},
   "outputs": [],
   "source": [
    "Pseudoprivate attributes are also useful in larger frameworks or tools, both to avoid introducing new method\n",
    "names that might accidentally hide definitions elsewhere in the class tree and to reduce the chance of internal\n",
    "methods being replaced by names defined lower in the tree. If a method is intended for use only within a class \n",
    "that may be mixed into other classes, the double underscore prefix ensures that the method won't \n",
    "interfere with other names in the tree, especially in multiple-inheritance scenarios\n",
    "\n",
    "Pseudoprivate names also prevent subclasses from accidentally redefining the internal method's names,"
   ]
  },
  {
   "cell_type": "code",
   "execution_count": 4,
   "id": "faf6d17f",
   "metadata": {},
   "outputs": [],
   "source": [
    "class Super:\n",
    "    def method(self): # A real application method\n",
    "        pass\n",
    "class Tool:\n",
    "    def _method(self): # becomes _Tool_method\n",
    "        pass\n",
    "    def other(self): # uses internal method\n",
    "        self._method()\n",
    "class Sub1(Tool,Super):\n",
    "    def actions(self):\n",
    "        self.method()\n",
    "class Sub2(Tool):\n",
    "    def __init__(self):\n",
    "        self.method = 99"
   ]
  }
 ],
 "metadata": {
  "kernelspec": {
   "display_name": "Python 3 (ipykernel)",
   "language": "python",
   "name": "python3"
  },
  "language_info": {
   "codemirror_mode": {
    "name": "ipython",
    "version": 3
   },
   "file_extension": ".py",
   "mimetype": "text/x-python",
   "name": "python",
   "nbconvert_exporter": "python",
   "pygments_lexer": "ipython3",
   "version": "3.9.7"
  }
 },
 "nbformat": 4,
 "nbformat_minor": 5
}
