{
 "cells": [
  {
   "cell_type": "code",
   "execution_count": null,
   "id": "238c54f3",
   "metadata": {},
   "outputs": [],
   "source": [
    "Q1. What is the purpose of the try statement?"
   ]
  },
  {
   "cell_type": "code",
   "execution_count": null,
   "id": "8dcfc586",
   "metadata": {},
   "outputs": [],
   "source": [
    "The try block lets you test a block of code for errors. \n",
    "The except block lets you handle the error. \n",
    "The else block lets you execute code when there is no error."
   ]
  },
  {
   "cell_type": "code",
   "execution_count": 2,
   "id": "1c4f7442",
   "metadata": {},
   "outputs": [
    {
     "name": "stdout",
     "output_type": "stream",
     "text": [
      "division by zero\n"
     ]
    }
   ],
   "source": [
    "try:\n",
    "    print(10/0)\n",
    "except ZeroDivisionError as ex:\n",
    "    print(ex)"
   ]
  },
  {
   "cell_type": "code",
   "execution_count": null,
   "id": "efe4513c",
   "metadata": {},
   "outputs": [],
   "source": [
    "Q2. What are the two most popular try statement variations?"
   ]
  },
  {
   "cell_type": "code",
   "execution_count": null,
   "id": "93aca2e4",
   "metadata": {},
   "outputs": [],
   "source": [
    "try,except\n",
    "try,except,finally\n",
    "try,except,finally,else\n",
    "\n",
    "try: This block will test the excepted error to occur\n",
    "except:  Here you can handle the error\n",
    "else: If there is no exception then this block will be executed\n",
    "finally: Finally block always gets executed either exception is generated or not"
   ]
  },
  {
   "cell_type": "code",
   "execution_count": null,
   "id": "733ba0a4",
   "metadata": {},
   "outputs": [],
   "source": [
    "Q3. What is the purpose of the raise statement?"
   ]
  },
  {
   "cell_type": "code",
   "execution_count": null,
   "id": "1fcfc25b",
   "metadata": {},
   "outputs": [],
   "source": [
    "raise statement is used to trigger an exception explicitly, if a certain condition is not as per requirement of programmer. \n",
    "raise statement helps in triggering exception as per programming logic."
   ]
  },
  {
   "cell_type": "code",
   "execution_count": null,
   "id": "6b60bf40",
   "metadata": {},
   "outputs": [],
   "source": [
    "\n",
    "Q4. What does the assert statement do, and what other statement is it like?\n"
   ]
  },
  {
   "cell_type": "code",
   "execution_count": null,
   "id": "055daeac",
   "metadata": {},
   "outputs": [],
   "source": [
    "An assert statement checks whether a condition is true. If a condition evaluates to True,\n",
    "a program will keep running. If a condition is false, the program will return an AssertionError. \n",
    "At this point, the program will stop executing."
   ]
  },
  {
   "cell_type": "code",
   "execution_count": 3,
   "id": "b690d857",
   "metadata": {},
   "outputs": [
    {
     "ename": "AssertionError",
     "evalue": "this is not a valid statement",
     "output_type": "error",
     "traceback": [
      "\u001b[1;31m---------------------------------------------------------------------------\u001b[0m",
      "\u001b[1;31mAssertionError\u001b[0m                            Traceback (most recent call last)",
      "\u001b[1;32mC:\\Users\\SGOPIS~1.NAI\\AppData\\Local\\Temp/ipykernel_8348/3633858684.py\u001b[0m in \u001b[0;36m<module>\u001b[1;34m\u001b[0m\n\u001b[1;32m----> 1\u001b[1;33m \u001b[1;32massert\u001b[0m\u001b[1;33m(\u001b[0m\u001b[1;36m2\u001b[0m \u001b[1;33m==\u001b[0m \u001b[1;36m4\u001b[0m\u001b[1;33m)\u001b[0m\u001b[1;33m,\u001b[0m \u001b[1;34mf'this is not a valid statement'\u001b[0m\u001b[1;33m\u001b[0m\u001b[1;33m\u001b[0m\u001b[0m\n\u001b[0m",
      "\u001b[1;31mAssertionError\u001b[0m: this is not a valid statement"
     ]
    }
   ],
   "source": [
    "assert(2 == 4), f'this is not a valid statement'"
   ]
  },
  {
   "cell_type": "code",
   "execution_count": null,
   "id": "8b7218e3",
   "metadata": {},
   "outputs": [],
   "source": [
    "Q5. What is the purpose of the with/as argument, and what other statement is it like?"
   ]
  },
  {
   "cell_type": "code",
   "execution_count": null,
   "id": "612fe61d",
   "metadata": {},
   "outputs": [],
   "source": [
    "with/as statement simplifies use of file handling in python. When we use a with statement for file reading, \n",
    "there is no need for programmer to explicitly takecare of activities like resource deallocation and file closing by\n",
    "using file.close() method. with statement itself ensures proper acquisition and release of resources. \n",
    "this avoids triggering of exceptions if file closing is unknowingly forgotten in the code execution."
   ]
  },
  {
   "cell_type": "code",
   "execution_count": 4,
   "id": "22979377",
   "metadata": {},
   "outputs": [],
   "source": [
    "with open('test.txt','w') as file:\n",
    "    file.write('Hello World')"
   ]
  },
  {
   "cell_type": "code",
   "execution_count": null,
   "id": "d298a6fc",
   "metadata": {},
   "outputs": [],
   "source": []
  }
 ],
 "metadata": {
  "kernelspec": {
   "display_name": "Python 3 (ipykernel)",
   "language": "python",
   "name": "python3"
  },
  "language_info": {
   "codemirror_mode": {
    "name": "ipython",
    "version": 3
   },
   "file_extension": ".py",
   "mimetype": "text/x-python",
   "name": "python",
   "nbconvert_exporter": "python",
   "pygments_lexer": "ipython3",
   "version": "3.9.7"
  }
 },
 "nbformat": 4,
 "nbformat_minor": 5
}
