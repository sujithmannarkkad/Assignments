{
 "cells": [
  {
   "cell_type": "code",
   "execution_count": null,
   "id": "7e436057",
   "metadata": {},
   "outputs": [],
   "source": [
    "1. What is the concept of an abstract superclass?\n"
   ]
  },
  {
   "cell_type": "code",
   "execution_count": null,
   "id": "49a93fb1",
   "metadata": {},
   "outputs": [],
   "source": [
    "A class is called an Abstract class if it contains one or more abstract methods. \n",
    "An abstract method is a method that is declared, but contains no implementation. Abstract classes may not be instantiated,\n",
    "and its abstract methods must be implemented by its subclasses."
   ]
  },
  {
   "cell_type": "code",
   "execution_count": 2,
   "id": "d852226d",
   "metadata": {},
   "outputs": [
    {
     "name": "stdout",
     "output_type": "stream",
     "text": [
      "I have 3 sides\n",
      "I have 4 sides\n",
      "I have 5 sides\n",
      "I have 6 sides\n"
     ]
    }
   ],
   "source": [
    "# Python program showing\n",
    "# abstract base class work\n",
    " \n",
    "from abc import ABC, abstractmethod\n",
    " \n",
    "class Polygon(ABC):\n",
    " \n",
    "    @abstractmethod\n",
    "    def noofsides(self):\n",
    "        pass\n",
    " \n",
    "class Triangle(Polygon):\n",
    " \n",
    "    # overriding abstract method\n",
    "    def noofsides(self):\n",
    "        print(\"I have 3 sides\")\n",
    " \n",
    "class Pentagon(Polygon):\n",
    " \n",
    "    # overriding abstract method\n",
    "    def noofsides(self):\n",
    "        print(\"I have 5 sides\")\n",
    " \n",
    "class Hexagon(Polygon):\n",
    " \n",
    "    # overriding abstract method\n",
    "    def noofsides(self):\n",
    "        print(\"I have 6 sides\")\n",
    " \n",
    "class Quadrilateral(Polygon):\n",
    " \n",
    "    # overriding abstract method\n",
    "    def noofsides(self):\n",
    "        print(\"I have 4 sides\")\n",
    " \n",
    "# Driver code\n",
    "R = Triangle()\n",
    "R.noofsides()\n",
    " \n",
    "K = Quadrilateral()\n",
    "K.noofsides()\n",
    " \n",
    "R = Pentagon()\n",
    "R.noofsides()\n",
    " \n",
    "K = Hexagon()\n",
    "K.noofsides()"
   ]
  },
  {
   "cell_type": "code",
   "execution_count": null,
   "id": "2b15326d",
   "metadata": {},
   "outputs": [],
   "source": [
    "2. What happens when a class statement's top level contains a basic assignment statement?\n"
   ]
  },
  {
   "cell_type": "code",
   "execution_count": null,
   "id": "9ba0e5ab",
   "metadata": {},
   "outputs": [],
   "source": [
    "When a Class statement's top level contains a basic assignment statement, its usually treated as a class attribute or \n",
    "class level variable.\n",
    "\n",
    "where as assignment statements inside methods are treated as instance attributes or local attributes.\n",
    "\n",
    "When an instance of a class is created a single copy of class attributes is maintained and shared to all instances of \n",
    "class. where as each instance object maintains its own copy of instance variables."
   ]
  },
  {
   "cell_type": "code",
   "execution_count": 3,
   "id": "58e3cb94",
   "metadata": {},
   "outputs": [],
   "source": [
    "class Car:\n",
    "    no_of_wheels = 4; # this is a class attribute\n",
    "    def __init__(self,color,price,engine):\n",
    "        self.color = color # All this are instance attributes\n",
    "        self.price = price\n",
    "        self.engine = engine"
   ]
  },
  {
   "cell_type": "code",
   "execution_count": null,
   "id": "9c964942",
   "metadata": {},
   "outputs": [],
   "source": [
    "3. Why does a class need to manually call a superclass's __init__ method?"
   ]
  },
  {
   "cell_type": "code",
   "execution_count": null,
   "id": "11ddd91e",
   "metadata": {},
   "outputs": [],
   "source": [
    "if a child class has __init__ method, then it will not inherit the __init__ method of the parent class.\n",
    "in other words the __init__ method of the child class overrides the __init__ method of the parent class. \n",
    "so we have to manually call a parent superclass's __init__ using super() method"
   ]
  },
  {
   "cell_type": "code",
   "execution_count": 4,
   "id": "b0ed1732",
   "metadata": {},
   "outputs": [
    {
     "name": "stdout",
     "output_type": "stream",
     "text": [
      "{'name': 'Sujith', 'age': 34, 'salary': 200000}\n"
     ]
    }
   ],
   "source": [
    "class Person:\n",
    "    def __init__(self,name,age):\n",
    "        self.name = name\n",
    "        self.age = age       \n",
    "class Employee(Person):\n",
    "    def __init__(self,name,age,salary):\n",
    "        super().__init__(name,age)\n",
    "        self.salary = salary\n",
    "emp_1 = Employee('Sujith',34,200000)\n",
    "print(emp_1.__dict__)"
   ]
  },
  {
   "cell_type": "code",
   "execution_count": null,
   "id": "923b0c38",
   "metadata": {},
   "outputs": [],
   "source": [
    "4. How can you augment, instead of completely replacing, an inherited method?\n"
   ]
  },
  {
   "cell_type": "code",
   "execution_count": null,
   "id": "8e91ef2f",
   "metadata": {},
   "outputs": [],
   "source": [
    "super() method can be used to augment, instead of completely replacing, an inherited method."
   ]
  },
  {
   "cell_type": "code",
   "execution_count": 5,
   "id": "68d7a51b",
   "metadata": {},
   "outputs": [
    {
     "name": "stdout",
     "output_type": "stream",
     "text": [
      "{'name': 'Sujith', 'age': 34, 'salary': 200000}\n"
     ]
    }
   ],
   "source": [
    "class Person:\n",
    "    def __init__(self,name,age):\n",
    "        self.name = name\n",
    "        self.age = age       \n",
    "class Employee(Person):\n",
    "    def __init__(self,name,age,salary):\n",
    "        super().__init__(name,age)\n",
    "        self.salary = salary\n",
    "emp_1 = Employee('Sujith',34,200000)\n",
    "print(emp_1.__dict__)"
   ]
  },
  {
   "cell_type": "code",
   "execution_count": null,
   "id": "47537f2d",
   "metadata": {},
   "outputs": [],
   "source": [
    "5. How is the local scope of a class different from that of a function?\n"
   ]
  },
  {
   "cell_type": "code",
   "execution_count": null,
   "id": "dd68c29b",
   "metadata": {},
   "outputs": [],
   "source": [
    "A Variable which is defined inside a function is local to that function. \n",
    "it is accesible from the point at which it is defined until the end of the function, and exists \n",
    "for as long as the function is existing.\n",
    "\n",
    "Similary a variable inside of a class also has a local variable scope. \n",
    "Variables which are defined in the class body (but outside all methods) are called as class \n",
    "level variables or class attributes. they can be referenced by there bare names within the same scope, \n",
    "but they can also be accessed from outside this scope if we use the attribute access operator (.). \n",
    "on a class or an instance of the class."
   ]
  },
  {
   "cell_type": "code",
   "execution_count": 7,
   "id": "f83ad739",
   "metadata": {},
   "outputs": [
    {
     "name": "stdout",
     "output_type": "stream",
     "text": [
      "you're name is Sujith G\n"
     ]
    }
   ],
   "source": [
    "def hello(name):\n",
    "    name = name\n",
    "    print(f'you\\'re name is {name}')\n",
    "\n",
    "hello('Sujith G')\n",
    "\n"
   ]
  },
  {
   "cell_type": "code",
   "execution_count": 8,
   "id": "ef2ddd9f",
   "metadata": {},
   "outputs": [
    {
     "ename": "NameError",
     "evalue": "name 'name' is not defined",
     "output_type": "error",
     "traceback": [
      "\u001b[1;31m---------------------------------------------------------------------------\u001b[0m",
      "\u001b[1;31mNameError\u001b[0m                                 Traceback (most recent call last)",
      "\u001b[1;32mC:\\Users\\SGOPIS~1.NAI\\AppData\\Local\\Temp/ipykernel_17184/3474671970.py\u001b[0m in \u001b[0;36m<module>\u001b[1;34m\u001b[0m\n\u001b[1;32m----> 1\u001b[1;33m \u001b[0mname\u001b[0m\u001b[1;33m\u001b[0m\u001b[1;33m\u001b[0m\u001b[0m\n\u001b[0m",
      "\u001b[1;31mNameError\u001b[0m: name 'name' is not defined"
     ]
    }
   ],
   "source": [
    "name"
   ]
  },
  {
   "cell_type": "code",
   "execution_count": 11,
   "id": "86feaabf",
   "metadata": {},
   "outputs": [
    {
     "name": "stdout",
     "output_type": "stream",
     "text": [
      "Name varible is not available outside hello function scope\n"
     ]
    }
   ],
   "source": [
    "\n",
    "try:\n",
    "    name\n",
    "except Exception as ex:\n",
    "    print('Name varible is not available outside hello function scope')\n",
    "\n"
   ]
  },
  {
   "cell_type": "code",
   "execution_count": 12,
   "id": "de05dfef",
   "metadata": {},
   "outputs": [
    {
     "name": "stdout",
     "output_type": "stream",
     "text": [
      "Sujith G\n",
      "Sujith G\n"
     ]
    }
   ],
   "source": [
    "class Person:\n",
    "    name = \"Sujith G\"\n",
    "    def __init__(self):\n",
    "        pass\n",
    "print(Person.name) # Accessing species using class name\n",
    "Male = Person()\n",
    "print(Male.name) # Accessing species using instance of class"
   ]
  },
  {
   "cell_type": "code",
   "execution_count": null,
   "id": "5b4a315f",
   "metadata": {},
   "outputs": [],
   "source": []
  }
 ],
 "metadata": {
  "kernelspec": {
   "display_name": "Python 3 (ipykernel)",
   "language": "python",
   "name": "python3"
  },
  "language_info": {
   "codemirror_mode": {
    "name": "ipython",
    "version": 3
   },
   "file_extension": ".py",
   "mimetype": "text/x-python",
   "name": "python",
   "nbconvert_exporter": "python",
   "pygments_lexer": "ipython3",
   "version": "3.9.7"
  }
 },
 "nbformat": 4,
 "nbformat_minor": 5
}
