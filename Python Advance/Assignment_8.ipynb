{
 "cells": [
  {
   "cell_type": "code",
   "execution_count": null,
   "id": "38f8cf77",
   "metadata": {},
   "outputs": [],
   "source": [
    "Q1. What are the two latest user-defined exception constraints in Python 3.X?"
   ]
  },
  {
   "cell_type": "code",
   "execution_count": null,
   "id": "ad812188",
   "metadata": {},
   "outputs": [],
   "source": [
    "raise and assert"
   ]
  },
  {
   "cell_type": "code",
   "execution_count": null,
   "id": "e808bc09",
   "metadata": {},
   "outputs": [],
   "source": [
    "Q2. How are class-based exceptions that have been raised matched to handlers?\n"
   ]
  },
  {
   "cell_type": "code",
   "execution_count": null,
   "id": "0c215052",
   "metadata": {},
   "outputs": [],
   "source": [
    "In python, Users can define custom exceptions by creating a new class. \n",
    "This exception class has to be derived, either directly or indirectly from built-in Exception class. \n",
    "This new exception class like other exceptions can be raised using the raise statement with an optional error message."
   ]
  },
  {
   "cell_type": "code",
   "execution_count": 4,
   "id": "0fe81709",
   "metadata": {},
   "outputs": [
    {
     "ename": "TestException",
     "evalue": "age must be in a number",
     "output_type": "error",
     "traceback": [
      "\u001b[1;31m---------------------------------------------------------------------------\u001b[0m",
      "\u001b[1;31mTestException\u001b[0m                             Traceback (most recent call last)",
      "\u001b[1;32mC:\\Users\\SGOPIS~1.NAI\\AppData\\Local\\Temp/ipykernel_8852/2721854318.py\u001b[0m in \u001b[0;36m<module>\u001b[1;34m\u001b[0m\n\u001b[0;32m      3\u001b[0m         \u001b[0mself\u001b[0m\u001b[1;33m.\u001b[0m\u001b[0mmsg\u001b[0m \u001b[1;33m=\u001b[0m \u001b[0mmsg\u001b[0m\u001b[1;33m\u001b[0m\u001b[1;33m\u001b[0m\u001b[0m\n\u001b[0;32m      4\u001b[0m \u001b[0mage\u001b[0m \u001b[1;33m=\u001b[0m \u001b[1;34m'10'\u001b[0m\u001b[1;33m\u001b[0m\u001b[1;33m\u001b[0m\u001b[0m\n\u001b[1;32m----> 5\u001b[1;33m \u001b[1;32mif\u001b[0m \u001b[0mtype\u001b[0m\u001b[1;33m(\u001b[0m\u001b[0mage\u001b[0m\u001b[1;33m)\u001b[0m \u001b[1;33m!=\u001b[0m \u001b[0mint\u001b[0m\u001b[1;33m:\u001b[0m \u001b[1;32mraise\u001b[0m \u001b[0mTestException\u001b[0m\u001b[1;33m(\u001b[0m\u001b[1;34m'age must be in a number'\u001b[0m\u001b[1;33m)\u001b[0m\u001b[1;33m\u001b[0m\u001b[1;33m\u001b[0m\u001b[0m\n\u001b[0m",
      "\u001b[1;31mTestException\u001b[0m: age must be in a number"
     ]
    }
   ],
   "source": [
    "class TestException(Exception):\n",
    "    def __init__(self,msg):\n",
    "        self.msg = msg\n",
    "age = '10'\n",
    "if type(age) != int: raise TestException('age must be in a number')"
   ]
  },
  {
   "cell_type": "code",
   "execution_count": null,
   "id": "7ff68964",
   "metadata": {},
   "outputs": [],
   "source": [
    "\n",
    "Q3. Describe two methods for attaching context information to exception artefacts.\n"
   ]
  },
  {
   "cell_type": "code",
   "execution_count": null,
   "id": "3ed8b2a0",
   "metadata": {},
   "outputs": [],
   "source": [
    "The process() method of LoggerAdapter is where the contextual information is added to the logging output. its passes the message and keyword arguments of the logging call, and it passes back modified versions of these to use in the call to the underlying logger.\n",
    "\n",
    "Other method that can be used is exception(), Logs a messgae with level ERROR on this logger. The arguments are interpreted as for debug(). Exception info is added to the logging message."
   ]
  },
  {
   "cell_type": "code",
   "execution_count": null,
   "id": "84744e58",
   "metadata": {},
   "outputs": [],
   "source": [
    "\n",
    "\n",
    "Q4. Describe two methods for specifying the text of an exception object's error message.\n"
   ]
  },
  {
   "cell_type": "code",
   "execution_count": null,
   "id": "91ea20ff",
   "metadata": {},
   "outputs": [],
   "source": [
    " raise and assert are two methods for specifying the text of an exception object's error message.\n",
    "    raise statement is used to trigger explicit exception, if certain condition is not as per requirement of programmer. \n",
    "    it helps in triggering exception as per need of programmer and logic."
   ]
  },
  {
   "cell_type": "code",
   "execution_count": null,
   "id": "a5e0beac",
   "metadata": {},
   "outputs": [],
   "source": [
    "Q5. Why do you no longer use string-based exceptions?"
   ]
  },
  {
   "cell_type": "code",
   "execution_count": null,
   "id": "a6407c7e",
   "metadata": {},
   "outputs": [],
   "source": [
    "String-based Exceptions doesn't inherit from Exceptions. so plain exceptions catch all exceptions and not only system."
   ]
  }
 ],
 "metadata": {
  "kernelspec": {
   "display_name": "Python 3 (ipykernel)",
   "language": "python",
   "name": "python3"
  },
  "language_info": {
   "codemirror_mode": {
    "name": "ipython",
    "version": 3
   },
   "file_extension": ".py",
   "mimetype": "text/x-python",
   "name": "python",
   "nbconvert_exporter": "python",
   "pygments_lexer": "ipython3",
   "version": "3.9.7"
  }
 },
 "nbformat": 4,
 "nbformat_minor": 5
}
