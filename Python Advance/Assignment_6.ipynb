{
 "cells": [
  {
   "cell_type": "code",
   "execution_count": null,
   "id": "965a1732",
   "metadata": {},
   "outputs": [],
   "source": [
    "Q1. Describe three applications for exception processing."
   ]
  },
  {
   "cell_type": "code",
   "execution_count": null,
   "id": "647008c0",
   "metadata": {},
   "outputs": [],
   "source": [
    "Exceptions are raised when the program is syntactically correct, but the code resulted in an error."
   ]
  },
  {
   "cell_type": "code",
   "execution_count": null,
   "id": "beffe784",
   "metadata": {},
   "outputs": [],
   "source": [
    "Exception Processing is used in Various Applications of which few examples are:\n",
    "\n",
    "Checking Appropriate use of input in an application\n",
    "Checking for Arithmetic exceptions in mathematical executions\n",
    "Checking File I/O exceptions during File handling"
   ]
  },
  {
   "cell_type": "code",
   "execution_count": null,
   "id": "dc326663",
   "metadata": {},
   "outputs": [],
   "source": [
    "Q2. What happens if you don't do something extra to treat an exception?\n"
   ]
  },
  {
   "cell_type": "code",
   "execution_count": null,
   "id": "af5d412c",
   "metadata": {},
   "outputs": [],
   "source": [
    "inability of program to handle exceptions will result in crashing of program."
   ]
  },
  {
   "cell_type": "code",
   "execution_count": null,
   "id": "bc01d058",
   "metadata": {},
   "outputs": [],
   "source": [
    "Q3. What are your options for recovering from an exception in your script?"
   ]
  },
  {
   "cell_type": "code",
   "execution_count": null,
   "id": "4a116792",
   "metadata": {},
   "outputs": [],
   "source": [
    "Python provides try and except statements for recovering from an exception in your script."
   ]
  },
  {
   "cell_type": "code",
   "execution_count": 4,
   "id": "edd282a6",
   "metadata": {},
   "outputs": [
    {
     "name": "stdout",
     "output_type": "stream",
     "text": [
      "Exception:  division by zero\n"
     ]
    }
   ],
   "source": [
    "\n",
    "try:\n",
    "    # initialize the amount variable\n",
    "    marks = 10000\n",
    "\n",
    "    # perform division with 0\n",
    "    a = marks / 0\n",
    "    print(a)\n",
    "except Exception as ex:\n",
    "    print('Exception: ',ex)"
   ]
  },
  {
   "cell_type": "code",
   "execution_count": null,
   "id": "12cb16c2",
   "metadata": {},
   "outputs": [],
   "source": [
    "Q4. Describe two methods for triggering exceptions in your script.\n"
   ]
  },
  {
   "cell_type": "code",
   "execution_count": null,
   "id": "aa44dd45",
   "metadata": {},
   "outputs": [],
   "source": [
    "raise and assert are two methods that can be used to trigger manual exceptions in your script.\n",
    "\n",
    "raise method triggers an exception if condition provided to it turns out to be True.\n",
    "assert will let the program to continue execution if condition provided to it turns out to be True else \n",
    "exception will be raised"
   ]
  },
  {
   "cell_type": "code",
   "execution_count": 5,
   "id": "739acc34",
   "metadata": {},
   "outputs": [
    {
     "ename": "Exception",
     "evalue": "X Value Should not exceed 5 The Provided Value of X is 20",
     "output_type": "error",
     "traceback": [
      "\u001b[1;31m---------------------------------------------------------------------------\u001b[0m",
      "\u001b[1;31mException\u001b[0m                                 Traceback (most recent call last)",
      "\u001b[1;32mC:\\Users\\SGOPIS~1.NAI\\AppData\\Local\\Temp/ipykernel_3692/3255096491.py\u001b[0m in \u001b[0;36m<module>\u001b[1;34m\u001b[0m\n\u001b[0;32m      1\u001b[0m \u001b[1;31m# Example of raise\u001b[0m\u001b[1;33m\u001b[0m\u001b[1;33m\u001b[0m\u001b[0m\n\u001b[0;32m      2\u001b[0m \u001b[0mx\u001b[0m \u001b[1;33m=\u001b[0m \u001b[1;36m20\u001b[0m\u001b[1;33m\u001b[0m\u001b[1;33m\u001b[0m\u001b[0m\n\u001b[1;32m----> 3\u001b[1;33m \u001b[1;32mraise\u001b[0m \u001b[0mException\u001b[0m\u001b[1;33m(\u001b[0m\u001b[1;34mf'X Value Should not exceed 5 The Provided Value of X is {x}'\u001b[0m\u001b[1;33m)\u001b[0m\u001b[1;33m\u001b[0m\u001b[1;33m\u001b[0m\u001b[0m\n\u001b[0m",
      "\u001b[1;31mException\u001b[0m: X Value Should not exceed 5 The Provided Value of X is 20"
     ]
    }
   ],
   "source": [
    "# Example of raise\n",
    "x = 20\n",
    "raise Exception(f'X Value Should not exceed 5 The Provided Value of X is {x}')"
   ]
  },
  {
   "cell_type": "code",
   "execution_count": 6,
   "id": "9e87f527",
   "metadata": {},
   "outputs": [
    {
     "ename": "AssertionError",
     "evalue": "5 is not equal to 20",
     "output_type": "error",
     "traceback": [
      "\u001b[1;31m---------------------------------------------------------------------------\u001b[0m",
      "\u001b[1;31mAssertionError\u001b[0m                            Traceback (most recent call last)",
      "\u001b[1;32mC:\\Users\\SGOPIS~1.NAI\\AppData\\Local\\Temp/ipykernel_3692/1712770478.py\u001b[0m in \u001b[0;36m<module>\u001b[1;34m\u001b[0m\n\u001b[0;32m      1\u001b[0m \u001b[1;31m# Example of assert\u001b[0m\u001b[1;33m\u001b[0m\u001b[1;33m\u001b[0m\u001b[0m\n\u001b[1;32m----> 2\u001b[1;33m \u001b[1;32massert\u001b[0m\u001b[1;33m(\u001b[0m\u001b[1;36m5\u001b[0m\u001b[1;33m==\u001b[0m\u001b[1;36m20\u001b[0m\u001b[1;33m)\u001b[0m\u001b[1;33m,\u001b[0m \u001b[1;34m\"5 is not equal to 20\"\u001b[0m\u001b[1;33m\u001b[0m\u001b[1;33m\u001b[0m\u001b[0m\n\u001b[0m",
      "\u001b[1;31mAssertionError\u001b[0m: 5 is not equal to 20"
     ]
    }
   ],
   "source": [
    "# Example of assert\n",
    "assert(5==20), \"5 is not equal to 20\""
   ]
  },
  {
   "cell_type": "code",
   "execution_count": null,
   "id": "0490c98d",
   "metadata": {},
   "outputs": [],
   "source": [
    "Q5. Identify two methods for specifying actions to be executed at termination time, \n",
    "regardless of whether or not an exception exists.\n"
   ]
  },
  {
   "cell_type": "code",
   "execution_count": null,
   "id": "c7681d3d",
   "metadata": {},
   "outputs": [],
   "source": [
    "Python Provides else and finally blocks for specifying actions to be executed at termination time, \n",
    "regardless of whether an exceptions exists or not."
   ]
  }
 ],
 "metadata": {
  "kernelspec": {
   "display_name": "Python 3 (ipykernel)",
   "language": "python",
   "name": "python3"
  },
  "language_info": {
   "codemirror_mode": {
    "name": "ipython",
    "version": 3
   },
   "file_extension": ".py",
   "mimetype": "text/x-python",
   "name": "python",
   "nbconvert_exporter": "python",
   "pygments_lexer": "ipython3",
   "version": "3.9.7"
  }
 },
 "nbformat": 4,
 "nbformat_minor": 5
}
