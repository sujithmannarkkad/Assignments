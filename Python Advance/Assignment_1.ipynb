{
 "cells": [
  {
   "cell_type": "code",
   "execution_count": null,
   "id": "fe3d543b",
   "metadata": {},
   "outputs": [],
   "source": [
    "Q1. What is the purpose of Python's OOP?"
   ]
  },
  {
   "cell_type": "code",
   "execution_count": null,
   "id": "54323f12",
   "metadata": {},
   "outputs": [],
   "source": [
    "In Python, object-oriented Programming (OOPs) is a programming paradigm that uses objects and classes in programming. \n",
    "It aims to implement real-world entities like inheritance, polymorphisms, encapsulation, etc. in the programming. \n",
    "The main concept of OOPs is to bind the data and the functions that work on that together as a single unit so that \n",
    "no other part of the code can access this data. "
   ]
  },
  {
   "cell_type": "code",
   "execution_count": null,
   "id": "a1556468",
   "metadata": {},
   "outputs": [],
   "source": [
    "Main Concepts of Object-Oriented Programming (OOPs) \n",
    "Class\n",
    "Objects\n",
    "Polymorphism\n",
    "Encapsulation\n",
    "Inheritance"
   ]
  },
  {
   "cell_type": "code",
   "execution_count": null,
   "id": "0964c4aa",
   "metadata": {},
   "outputs": [],
   "source": [
    "A class is a collection of objects. A class contains the blueprints or the prototype from which the objects \n",
    "are being created. \n",
    "It is a logical entity that contains some attributes and methods."
   ]
  },
  {
   "cell_type": "code",
   "execution_count": null,
   "id": "a73bf3a9",
   "metadata": {},
   "outputs": [],
   "source": [
    "The object is an entity that has a state and behavior associated with it. It may be any real-world object like a mouse, keyboard, \n",
    "chair, table, pen, etc."
   ]
  },
  {
   "cell_type": "code",
   "execution_count": null,
   "id": "85c4dfa3",
   "metadata": {},
   "outputs": [],
   "source": [
    "Inheritance is the capability of one class to derive or inherit the properties from another class. \n",
    "The class that derives properties is called the derived class or child class and the class from which the\n",
    "properties are being derived is called \n",
    "the base class or parent class. "
   ]
  },
  {
   "cell_type": "code",
   "execution_count": null,
   "id": "58c7bf02",
   "metadata": {},
   "outputs": [],
   "source": [
    "Polymorphism simply means having many forms."
   ]
  },
  {
   "cell_type": "code",
   "execution_count": null,
   "id": "87c2a3c4",
   "metadata": {},
   "outputs": [],
   "source": [
    "Encapsulation is one of the fundamental concepts in object-oriented programming (OOP). \n",
    "It describes the idea of wrapping data and the methods that work on data within one unit. \n",
    "This puts restrictions on accessing variables and \n",
    "methods directly and can prevent the accidental modification of data. "
   ]
  },
  {
   "cell_type": "code",
   "execution_count": null,
   "id": "2e7472ed",
   "metadata": {},
   "outputs": [],
   "source": [
    "Q2. Where does an inheritance search look for an attribute?"
   ]
  },
  {
   "cell_type": "code",
   "execution_count": null,
   "id": "e57d208d",
   "metadata": {},
   "outputs": [],
   "source": [
    "Python searches for an attribute in an upward tree of attributes. \n",
    "it first searches for the attribute in its instance and then looks in the class it is generated from, \n",
    "to all super classes listed in its class header"
   ]
  },
  {
   "cell_type": "code",
   "execution_count": null,
   "id": "c817ab4e",
   "metadata": {},
   "outputs": [],
   "source": [
    "Q3. How do you distinguish between a class object and an instance object?"
   ]
  },
  {
   "cell_type": "code",
   "execution_count": null,
   "id": "cd0689d3",
   "metadata": {},
   "outputs": [],
   "source": [
    "The class = the blue print. The Object is an actual thing that is built based on the ‘blue print’ (like the house).\n",
    "An instance is a virtual copy (but not a real copy) of the object.\n"
   ]
  },
  {
   "cell_type": "code",
   "execution_count": null,
   "id": "ed81fbed",
   "metadata": {},
   "outputs": [],
   "source": [
    "Class is a template for creating objects whereas object is an instance of class\n",
    "Seperate memory is allocated for each object whenever an object is created. but for a class this doesnot happens.\n",
    "A Class is created once. Many objects are created using a class.\n",
    "As Classes have no allocated memory. they can't be manipulated. but objects can be manipulated."
   ]
  },
  {
   "cell_type": "code",
   "execution_count": null,
   "id": "9c273b1b",
   "metadata": {},
   "outputs": [],
   "source": [
    "Q4. What makes the first argument in a class’s method function special?\n",
    "\n",
    "self is the first argument for instance methods. \n",
    "self represents the instance of the class. By using the “self” keyword we can access the attributes and methods of \n",
    "the class in python. \n",
    "It binds the attributes with the given arguments"
   ]
  },
  {
   "cell_type": "code",
   "execution_count": null,
   "id": "69d05dcd",
   "metadata": {},
   "outputs": [],
   "source": [
    "Q5. What is the purpose of the __init__ method?\n",
    "\n",
    "The __init__ function is called every time an object is created from a class. \n",
    "The __init__ method lets the class initialize the object's attributes and serves no other purpose. \n",
    "It is only used within classes. It serves the role of a constructor in object oriented terminology. \n"
   ]
  },
  {
   "cell_type": "code",
   "execution_count": null,
   "id": "1ebfd30c",
   "metadata": {},
   "outputs": [],
   "source": [
    "Q6. What is the process for creating a class instance?\n",
    "\n",
    "To create instances of a class, you call the class using class name and pass in whatever\n",
    "arguments its __init__ method accepts."
   ]
  },
  {
   "cell_type": "code",
   "execution_count": 1,
   "id": "a06a32ed",
   "metadata": {},
   "outputs": [],
   "source": [
    "class Car:\n",
    "    def __init__(self,door,engine):\n",
    "        self.door=door\n",
    "        self.engine=engine"
   ]
  },
  {
   "cell_type": "code",
   "execution_count": 2,
   "id": "83f302b2",
   "metadata": {},
   "outputs": [],
   "source": [
    "mycar=Car(4,'Petrol')"
   ]
  },
  {
   "cell_type": "code",
   "execution_count": 3,
   "id": "f4078edf",
   "metadata": {},
   "outputs": [
    {
     "data": {
      "text/plain": [
       "'Petrol'"
      ]
     },
     "execution_count": 3,
     "metadata": {},
     "output_type": "execute_result"
    }
   ],
   "source": [
    "mycar.engine"
   ]
  },
  {
   "cell_type": "code",
   "execution_count": null,
   "id": "82ec05a0",
   "metadata": {},
   "outputs": [],
   "source": [
    "Here mycar is an instance of class Car with attributes 4 and \"Petrol\"."
   ]
  },
  {
   "cell_type": "code",
   "execution_count": null,
   "id": "073d81ee",
   "metadata": {},
   "outputs": [],
   "source": [
    "Q7. What is the process for creating a class?\n"
   ]
  },
  {
   "cell_type": "code",
   "execution_count": null,
   "id": "0c2f0775",
   "metadata": {},
   "outputs": [],
   "source": [
    "class keyword is used to created a class in python. The syntax to create a class in python is class <classname>:"
   ]
  },
  {
   "cell_type": "code",
   "execution_count": 4,
   "id": "06c5831e",
   "metadata": {},
   "outputs": [],
   "source": [
    "class Car:\n",
    "    pass"
   ]
  },
  {
   "cell_type": "code",
   "execution_count": null,
   "id": "96d1eb89",
   "metadata": {},
   "outputs": [],
   "source": [
    "Q8. How would you define the superclasses of a class?"
   ]
  },
  {
   "cell_type": "code",
   "execution_count": null,
   "id": "24994dcf",
   "metadata": {},
   "outputs": [],
   "source": [
    "The class from which a class inherits is called the parent or superclass. \n",
    "Superclass/Parent class is given as a arugment to the child class"
   ]
  },
  {
   "cell_type": "code",
   "execution_count": 6,
   "id": "602f6f73",
   "metadata": {},
   "outputs": [
    {
     "name": "stdout",
     "output_type": "stream",
     "text": [
      "This is superclass\n",
      "This is subclass\n"
     ]
    }
   ],
   "source": [
    "# superclass\n",
    "class Person():\n",
    "    def display1(self):\n",
    "        print(\"This is superclass\")\n",
    " \n",
    "# subclass\n",
    "class Employee(Person):\n",
    "    def display2(self):\n",
    "        print(\"This is subclass\")\n",
    "\n",
    "emp = Employee()  # creating object of subclass\n",
    " \n",
    "emp.display1()\n",
    "emp.display2()"
   ]
  },
  {
   "cell_type": "code",
   "execution_count": null,
   "id": "65e36bcc",
   "metadata": {},
   "outputs": [],
   "source": []
  }
 ],
 "metadata": {
  "kernelspec": {
   "display_name": "Python 3 (ipykernel)",
   "language": "python",
   "name": "python3"
  },
  "language_info": {
   "codemirror_mode": {
    "name": "ipython",
    "version": 3
   },
   "file_extension": ".py",
   "mimetype": "text/x-python",
   "name": "python",
   "nbconvert_exporter": "python",
   "pygments_lexer": "ipython3",
   "version": "3.9.7"
  }
 },
 "nbformat": 4,
 "nbformat_minor": 5
}
