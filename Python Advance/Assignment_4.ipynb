{
 "cells": [
  {
   "cell_type": "code",
   "execution_count": null,
   "id": "32d9c812",
   "metadata": {},
   "outputs": [],
   "source": [
    "Q1. Which two operator overloading methods can you use in your classes to support iteration?\n"
   ]
  },
  {
   "cell_type": "code",
   "execution_count": null,
   "id": "6a3bf86d",
   "metadata": {},
   "outputs": [],
   "source": [
    "__iter__ and __next__ are the operator overloading methods in python that support iteration and are collectively \n",
    "called iterator protocol.\n",
    "\n",
    "__iter__ returns the iterator object and is called at the start of loop in our respective class.\n",
    "__next__ is called at each loop increment, it returns the incremented value. Also Stopiteration is raised when there is \n",
    "no value to return."
   ]
  },
  {
   "cell_type": "code",
   "execution_count": 1,
   "id": "093e559a",
   "metadata": {},
   "outputs": [
    {
     "name": "stdout",
     "output_type": "stream",
     "text": [
      "1\n",
      "2\n",
      "3\n",
      "4\n",
      "5\n",
      "6\n",
      "7\n",
      "8\n",
      "9\n",
      "10\n"
     ]
    }
   ],
   "source": [
    "class Counter:\n",
    "    def __init__(self, low, high):\n",
    "        self.current = low\n",
    "        self.high = high\n",
    " \n",
    "    def __iter__(self):\n",
    "        return self\n",
    " \n",
    "    def __next__(self):\n",
    "        if self.current > self.high:\n",
    "            raise StopIteration\n",
    "        else:\n",
    "            self.current += 1\n",
    "            return self.current - 1\n",
    " \n",
    " \n",
    "for num in Counter(1, 10):\n",
    "    print(num)"
   ]
  },
  {
   "cell_type": "code",
   "execution_count": null,
   "id": "5c9d7f65",
   "metadata": {},
   "outputs": [],
   "source": [
    "Q2. In what contexts do the two operator overloading methods manage printing?\n"
   ]
  },
  {
   "cell_type": "code",
   "execution_count": null,
   "id": "1262ede9",
   "metadata": {},
   "outputs": [],
   "source": [
    "__str__ and __repr__ are two operator overloading methods that manage printing.\n",
    "\n",
    "In Short, the difference between both these operators is the goal of __repr__ is to be unambiguous and __str__ is to\n",
    "be readable.\n",
    "Whenever we are printing any object reference internally __str__ method will be called by default.\n",
    "The main purpose of __str__ is for readability. it prints the informal string representation of an object,\n",
    "one that is useful for printing the object. it may not be possible to convert result string to original object.\n",
    "\n",
    "__repr__ is used to print official string representation of an object, so it includes all information and development."
   ]
  },
  {
   "cell_type": "code",
   "execution_count": 3,
   "id": "64a5dec3",
   "metadata": {},
   "outputs": [
    {
     "name": "stdout",
     "output_type": "stream",
     "text": [
      "<__main__.Student object at 0x0000021B5C366EB0>\n"
     ]
    }
   ],
   "source": [
    "class Student:\n",
    "    def __init__(self,name,roll_no):\n",
    "        self.name = name\n",
    "        self.roll_no = roll_no\n",
    "        \n",
    "s1 = Student(\"Sujith\",1)\n",
    "print(str(s1))"
   ]
  },
  {
   "cell_type": "code",
   "execution_count": 4,
   "id": "797166e2",
   "metadata": {},
   "outputs": [
    {
     "name": "stdout",
     "output_type": "stream",
     "text": [
      "Student Name: Sujith and Roll No: 1\n"
     ]
    }
   ],
   "source": [
    "class Student:\n",
    "    def __init__(self,name,roll_no):\n",
    "        self.name = name\n",
    "        self.roll_no = roll_no\n",
    "    def __str__(self):\n",
    "        return f'Student Name: {self.name} and Roll No: {self.roll_no}'\n",
    "    \n",
    "s1 = Student(\"Sujith\",1)\n",
    "print(str(s1))"
   ]
  },
  {
   "cell_type": "code",
   "execution_count": 6,
   "id": "89ef8a13",
   "metadata": {},
   "outputs": [
    {
     "name": "stdout",
     "output_type": "stream",
     "text": [
      "2022-02-11 16:25:26.393977\n",
      "datetime.datetime(2022, 2, 11, 16, 25, 26, 393977)\n"
     ]
    }
   ],
   "source": [
    "import datetime\n",
    "today = datetime.datetime.now()\n",
    "\n",
    "s = str(today) # converting datetime object to presentable str\n",
    "print(s)\n",
    "   \n",
    "u = repr(today) # converting datetime object to str\n",
    "print(u)\n"
   ]
  },
  {
   "cell_type": "code",
   "execution_count": null,
   "id": "44dd2a43",
   "metadata": {},
   "outputs": [],
   "source": [
    "Q3. In a class, how do you intercept slice operations?"
   ]
  },
  {
   "cell_type": "code",
   "execution_count": null,
   "id": "51d511e0",
   "metadata": {},
   "outputs": [],
   "source": [
    "The __getitem__ method is used for accessing list items, array elements, dictionary entries etc. \n",
    "slice is a constructor in Python that creates slice object to represent set of indices that the range(start, stop, step)\n",
    "specifies. __getitem__ method can be implement in a class, and the behavior of slicing can be defined inside it."
   ]
  },
  {
   "cell_type": "code",
   "execution_count": null,
   "id": "5cd22c2e",
   "metadata": {},
   "outputs": [],
   "source": [
    "syntax: __getitem__(slice(start, stop, step))"
   ]
  },
  {
   "cell_type": "code",
   "execution_count": null,
   "id": "1d1d21f2",
   "metadata": {},
   "outputs": [],
   "source": [
    "Parameter:\n",
    "\n",
    "slice() : constructor to create slice object.\n",
    "start: An integer number specifying start index.It is optional and default is 0.\n",
    "stop: An integer number specifying end index.\n",
    "step: An integer number specifying the step of slicing. It is optional and\n",
    "default is 1."
   ]
  },
  {
   "cell_type": "code",
   "execution_count": 7,
   "id": "c68e8cdf",
   "metadata": {},
   "outputs": [
    {
     "name": "stdout",
     "output_type": "stream",
     "text": [
      "ab\n"
     ]
    }
   ],
   "source": [
    "# abcde is string can be \n",
    "# an array as well.\n",
    "sliced ='abcde'.__getitem__(slice(0, 2, 1)) \n",
    "print(sliced)"
   ]
  },
  {
   "cell_type": "code",
   "execution_count": null,
   "id": "acbe540e",
   "metadata": {},
   "outputs": [],
   "source": [
    "Q4. In a class, how do you capture in-place addition?"
   ]
  },
  {
   "cell_type": "code",
   "execution_count": null,
   "id": "86b80edd",
   "metadata": {},
   "outputs": [],
   "source": [
    "a+b is normal addition. Whereas a+=b is inplace addition operation. \n",
    "In this in-place addition a itself will store the value of addition. \n",
    "In a class __iadd__ method is used for this in-place operation"
   ]
  },
  {
   "cell_type": "code",
   "execution_count": null,
   "id": "3646052f",
   "metadata": {},
   "outputs": [],
   "source": [
    " iadd() :- This function is used to assign and add the current value. \n",
    "        This operation does “a+=b” operation. Assigning is not performed in case of immutable containers, \n",
    "        such as strings, numbers and tuples."
   ]
  },
  {
   "cell_type": "code",
   "execution_count": 8,
   "id": "0d066c11",
   "metadata": {},
   "outputs": [
    {
     "name": "stdout",
     "output_type": "stream",
     "text": [
      "30\n"
     ]
    }
   ],
   "source": [
    "a=10\n",
    "b=20\n",
    "a+=b\n",
    "print(a)"
   ]
  },
  {
   "cell_type": "code",
   "execution_count": null,
   "id": "d6196846",
   "metadata": {},
   "outputs": [],
   "source": [
    "Q5. When is it appropriate to use operator overloading?"
   ]
  },
  {
   "cell_type": "code",
   "execution_count": null,
   "id": "ccce2afd",
   "metadata": {},
   "outputs": [],
   "source": [
    "Operator overloading is mostly useful when you're making a new class that falls into an existing \n",
    "\"Abstract Base Class\" (ABC) -- indeed, many of the ABCs in standard library module collections \n",
    "rely on the presence of certain special methods (and special methods, one with names starting and \n",
    "ending with double underscores"
   ]
  },
  {
   "cell_type": "code",
   "execution_count": 11,
   "id": "06c6b447",
   "metadata": {},
   "outputs": [
    {
     "name": "stdout",
     "output_type": "stream",
     "text": [
      "Total Number of Pages -> 300\n"
     ]
    }
   ],
   "source": [
    "class Book:\n",
    "    def __init__(self,pages):\n",
    "        self.pages = pages\n",
    "    def __add__(self,other):\n",
    "        return self.pages+other.pages\n",
    "b1 = Book(100)\n",
    "b2 = Book(200)\n",
    "print(f'Total Number of Pages -> {b1+b2}')"
   ]
  },
  {
   "cell_type": "code",
   "execution_count": null,
   "id": "95a28968",
   "metadata": {},
   "outputs": [],
   "source": []
  }
 ],
 "metadata": {
  "kernelspec": {
   "display_name": "Python 3 (ipykernel)",
   "language": "python",
   "name": "python3"
  },
  "language_info": {
   "codemirror_mode": {
    "name": "ipython",
    "version": 3
   },
   "file_extension": ".py",
   "mimetype": "text/x-python",
   "name": "python",
   "nbconvert_exporter": "python",
   "pygments_lexer": "ipython3",
   "version": "3.9.7"
  }
 },
 "nbformat": 4,
 "nbformat_minor": 5
}
