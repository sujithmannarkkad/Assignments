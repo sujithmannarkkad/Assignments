{
 "cells": [
  {
   "cell_type": "code",
   "execution_count": null,
   "id": "27e48ef3",
   "metadata": {},
   "outputs": [],
   "source": [
    "Q1. What is the relationship between classes and modules?"
   ]
  },
  {
   "cell_type": "code",
   "execution_count": null,
   "id": "55225ddb",
   "metadata": {},
   "outputs": [],
   "source": [
    "The difference between a class and a module in python is that a class is used to define a blueprint for a given object, \n",
    "whereas a module is used to reuse a given piece of code inside another program."
   ]
  },
  {
   "cell_type": "code",
   "execution_count": null,
   "id": "59de2e63",
   "metadata": {},
   "outputs": [],
   "source": [
    "Q2. How do you make instances and classes?\n"
   ]
  },
  {
   "cell_type": "code",
   "execution_count": null,
   "id": "d54f3518",
   "metadata": {},
   "outputs": [],
   "source": [
    "For creating a class instance. we call a class by its name and pass the arguments which its __init__ method accepts.\n",
    "\n",
    "Example: sujith = employee('Male',200000), Here sujith is an instance of class employee with attriubutes 'Male' and 2000000.\n",
    "\n",
    "Whereas for creating a class, we use the class keyword. class keyword is followed by classname and semicolon.\n",
    "\n",
    "Example: Here Employee is a class created with class keyword with arguments gender and salary.\n",
    "\n",
    "class Employee:\n",
    "    def __init__(self, gender,salary):\n",
    "        self.gender = gender\n",
    "        self.salary = salary"
   ]
  },
  {
   "cell_type": "code",
   "execution_count": null,
   "id": "e7be8f53",
   "metadata": {},
   "outputs": [],
   "source": [
    "Q3. Where and how should be class attributes created?\n"
   ]
  },
  {
   "cell_type": "code",
   "execution_count": null,
   "id": "8ed86abb",
   "metadata": {},
   "outputs": [],
   "source": [
    "Class attributes or Class level Attributes belong to the class itself. \n",
    "these attributes will be shared by all the instances of the class. \n",
    "Hence these attributes are usually created/defined in the top of class definiation outside all methods.\n",
    "\n",
    "Example: In the below code we are defining a class attribute called no_of_wheels which will be shared by all the instances\n",
    "of the class Car\n",
    "\n",
    "class Car:\n",
    "    no_of_wheels = 4; # this is a class attribute\n",
    "    def __init__(self,color,price,engine):\n",
    "        self.color = color # All this are instance attributes\n",
    "        self.price = price\n",
    "        self.engine = engine"
   ]
  },
  {
   "cell_type": "code",
   "execution_count": null,
   "id": "1e59642a",
   "metadata": {},
   "outputs": [],
   "source": [
    "Q4. Where and how are instance attributes created?\n"
   ]
  },
  {
   "cell_type": "code",
   "execution_count": null,
   "id": "4197b070",
   "metadata": {},
   "outputs": [],
   "source": [
    "Instances attributes are passed to the class when an object of the class is created. \n",
    "Unlike class attributes, instance attributes are not shared by all objects of the classs. \n",
    "instead each object maintains its own copy of instance attributes at object level. \n",
    "whereas incase of class attributes all instances of class refer to a single copy. \n",
    "Usually instance attributes are defined within the __init__ method of class"
   ]
  },
  {
   "cell_type": "code",
   "execution_count": 1,
   "id": "7562cc75",
   "metadata": {},
   "outputs": [],
   "source": [
    "class Car:\n",
    "    no_of_wheels = 4; # this is a class attribute\n",
    "    def __init__(self,color,price,engine):\n",
    "        self.color = color # All this are instance attributes\n",
    "        self.price = price\n",
    "        self.engine = engine"
   ]
  },
  {
   "cell_type": "code",
   "execution_count": 2,
   "id": "4869fb47",
   "metadata": {},
   "outputs": [
    {
     "data": {
      "text/plain": [
       "'Red'"
      ]
     },
     "execution_count": 2,
     "metadata": {},
     "output_type": "execute_result"
    }
   ],
   "source": [
    "car1=Car('Red','600000','Petrol')\n",
    "car1.color"
   ]
  },
  {
   "cell_type": "code",
   "execution_count": 3,
   "id": "7f6cb579",
   "metadata": {},
   "outputs": [
    {
     "data": {
      "text/plain": [
       "'White'"
      ]
     },
     "execution_count": 3,
     "metadata": {},
     "output_type": "execute_result"
    }
   ],
   "source": [
    "car2=Car('White','1000000','Petrol')\n",
    "car2.color"
   ]
  },
  {
   "cell_type": "code",
   "execution_count": null,
   "id": "d018d4b2",
   "metadata": {},
   "outputs": [],
   "source": [
    "car1 and car2  are both the instances of class Car with different instance variables."
   ]
  },
  {
   "cell_type": "code",
   "execution_count": null,
   "id": "0d6de560",
   "metadata": {},
   "outputs": [],
   "source": [
    "Q5. What does the term \"self\" in a Python class mean?\n",
    "self represents the instance of the class. By using the “self” keyword we can access the \n",
    "attributes and methods of the class in python.\n",
    "It binds the attributes with the given arguments."
   ]
  },
  {
   "cell_type": "code",
   "execution_count": 4,
   "id": "0264d2dd",
   "metadata": {},
   "outputs": [],
   "source": [
    "class Car:\n",
    "    no_of_wheels = 4; # this is a class attribute\n",
    "    def __init__(self,color,price,engine):\n",
    "        self.color = color # All this are instance attributes\n",
    "        self.price = price\n",
    "        self.engine = engine\n",
    "        \n",
    "car1=Car('Red','600000','Petrol')\n",
    "car2=Car('White','1000000','Petrol')"
   ]
  },
  {
   "cell_type": "code",
   "execution_count": 5,
   "id": "77721f00",
   "metadata": {},
   "outputs": [
    {
     "name": "stdout",
     "output_type": "stream",
     "text": [
      "{'color': 'Red', 'price': '600000', 'engine': 'Petrol'}\n",
      "{'color': 'White', 'price': '1000000', 'engine': 'Petrol'}\n"
     ]
    }
   ],
   "source": [
    "print(car1.__dict__)\n",
    "print(car2.__dict__)"
   ]
  },
  {
   "cell_type": "code",
   "execution_count": null,
   "id": "8cfb3f45",
   "metadata": {},
   "outputs": [],
   "source": [
    "Q6. How does a Python class handle operator overloading?\n"
   ]
  },
  {
   "cell_type": "code",
   "execution_count": null,
   "id": "977a5f2a",
   "metadata": {},
   "outputs": [],
   "source": [
    "Python Classes handle operator overloading by using special methods called Magic methods. \n",
    "these special methods usually begin and end with __ (double underscore)\n",
    "\n",
    "Magic methods for basic arithmetic operators are:\n",
    "\n",
    "+ -> __add__()\n",
    "- -> __sub__()\n",
    "* -> __mul__()\n",
    "/ -> __div__()"
   ]
  },
  {
   "cell_type": "code",
   "execution_count": null,
   "id": "bd0a6199",
   "metadata": {},
   "outputs": [],
   "source": [
    "Q7. When do you consider allowing operator overloading of your classes?\n",
    "\n",
    "When we want to have different meaning for the same operator accroding to the context we use operator overloading."
   ]
  },
  {
   "cell_type": "code",
   "execution_count": null,
   "id": "79652578",
   "metadata": {},
   "outputs": [],
   "source": [
    "Q8. What is the most popular form of operator overloading?\n",
    "\n",
    "A very popular and convenient example is the Addition (+) operator. Just think how the '+' operator operates on \n",
    "two numbers and the same operator operates on two strings. \n",
    "It performs “Addition” on numbers whereas it performs “Concatenation” on strings."
   ]
  },
  {
   "cell_type": "code",
   "execution_count": 10,
   "id": "8b12f8b2",
   "metadata": {},
   "outputs": [
    {
     "data": {
      "text/plain": [
       "9"
      ]
     },
     "execution_count": 10,
     "metadata": {},
     "output_type": "execute_result"
    }
   ],
   "source": [
    "4+5\n",
    "#addition"
   ]
  },
  {
   "cell_type": "code",
   "execution_count": 11,
   "id": "fa1b93f1",
   "metadata": {},
   "outputs": [
    {
     "data": {
      "text/plain": [
       "'Sujith G'"
      ]
     },
     "execution_count": 11,
     "metadata": {},
     "output_type": "execute_result"
    }
   ],
   "source": [
    "'Sujith'+' G'\n",
    "#string concatination"
   ]
  },
  {
   "cell_type": "code",
   "execution_count": null,
   "id": "2be2643f",
   "metadata": {},
   "outputs": [],
   "source": [
    "Q9. What are the two most important concepts to grasp in order to comprehend Python OOP code?\n"
   ]
  },
  {
   "cell_type": "code",
   "execution_count": null,
   "id": "1ab81575",
   "metadata": {},
   "outputs": [],
   "source": [
    "Classes and objects are the two concepts to comprehend python OOP code as more formally objects are entities that \n",
    "represent instances of general abstract concept called class\n",
    "\n",
    "Along with classes and objects the important concepts to grasp are:\n",
    "\n",
    "Inheritence\n",
    "Abstraction\n",
    "Polymorphism\n",
    "Encapsulation"
   ]
  }
 ],
 "metadata": {
  "kernelspec": {
   "display_name": "Python 3 (ipykernel)",
   "language": "python",
   "name": "python3"
  },
  "language_info": {
   "codemirror_mode": {
    "name": "ipython",
    "version": 3
   },
   "file_extension": ".py",
   "mimetype": "text/x-python",
   "name": "python",
   "nbconvert_exporter": "python",
   "pygments_lexer": "ipython3",
   "version": "3.9.7"
  }
 },
 "nbformat": 4,
 "nbformat_minor": 5
}
